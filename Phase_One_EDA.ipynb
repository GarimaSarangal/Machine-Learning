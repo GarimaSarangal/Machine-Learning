{
  "nbformat": 4,
  "nbformat_minor": 0,
  "metadata": {
    "kernelspec": {
      "display_name": "Python 3",
      "language": "python",
      "name": "python3"
    },
    "language_info": {
      "codemirror_mode": {
        "name": "ipython",
        "version": 3
      },
      "file_extension": ".py",
      "mimetype": "text/x-python",
      "name": "python",
      "nbconvert_exporter": "python",
      "pygments_lexer": "ipython3",
      "version": "3.7.6"
    },
    "colab": {
      "name": "Phase One - EDA.ipynb",
      "provenance": [],
      "toc_visible": true
    }
  },
  "cells": [
    {
      "cell_type": "code",
      "metadata": {
        "id": "v676mmBZAs53",
        "outputId": "8bcacbe2-4077-4122-fcb3-e0ee7957dd31",
        "colab": {
          "base_uri": "https://localhost:8080/"
        }
      },
      "source": [
        "#imports\n",
        "import pandas as pd\n",
        "import seaborn as sns\n",
        "import matplotlib.pyplot as plt\n",
        "import numpy as np\n",
        "!pip install pycountry\n",
        "import pycountry"
      ],
      "execution_count": 1,
      "outputs": [
        {
          "output_type": "stream",
          "text": [
            "Requirement already satisfied: pycountry in /usr/local/lib/python3.6/dist-packages (20.7.3)\n"
          ],
          "name": "stdout"
        }
      ]
    },
    {
      "cell_type": "code",
      "metadata": {
        "id": "-sx8JgnRziqJ"
      },
      "source": [
        "#reading data\n",
        "df = pd.read_csv('/content/fake_job_postings.csv')"
      ],
      "execution_count": 2,
      "outputs": []
    },
    {
      "cell_type": "markdown",
      "metadata": {
        "id": "2PuucHiVen5F"
      },
      "source": [
        "### **EDA**"
      ]
    },
    {
      "cell_type": "code",
      "metadata": {
        "id": "D4tEU6lzXl0U",
        "outputId": "5484a901-97ad-4c89-a249-5bf51f4eb3e6",
        "colab": {
          "base_uri": "https://localhost:8080/",
          "height": 547
        }
      },
      "source": [
        "#visualizing the data\n",
        "df.head()"
      ],
      "execution_count": 3,
      "outputs": [
        {
          "output_type": "execute_result",
          "data": {
            "text/html": [
              "<div>\n",
              "<style scoped>\n",
              "    .dataframe tbody tr th:only-of-type {\n",
              "        vertical-align: middle;\n",
              "    }\n",
              "\n",
              "    .dataframe tbody tr th {\n",
              "        vertical-align: top;\n",
              "    }\n",
              "\n",
              "    .dataframe thead th {\n",
              "        text-align: right;\n",
              "    }\n",
              "</style>\n",
              "<table border=\"1\" class=\"dataframe\">\n",
              "  <thead>\n",
              "    <tr style=\"text-align: right;\">\n",
              "      <th></th>\n",
              "      <th>job_id</th>\n",
              "      <th>title</th>\n",
              "      <th>location</th>\n",
              "      <th>department</th>\n",
              "      <th>salary_range</th>\n",
              "      <th>company_profile</th>\n",
              "      <th>description</th>\n",
              "      <th>requirements</th>\n",
              "      <th>benefits</th>\n",
              "      <th>telecommuting</th>\n",
              "      <th>has_company_logo</th>\n",
              "      <th>has_questions</th>\n",
              "      <th>employment_type</th>\n",
              "      <th>required_experience</th>\n",
              "      <th>required_education</th>\n",
              "      <th>industry</th>\n",
              "      <th>function</th>\n",
              "      <th>fraudulent</th>\n",
              "    </tr>\n",
              "  </thead>\n",
              "  <tbody>\n",
              "    <tr>\n",
              "      <th>0</th>\n",
              "      <td>1</td>\n",
              "      <td>Marketing Intern</td>\n",
              "      <td>US, NY, New York</td>\n",
              "      <td>Marketing</td>\n",
              "      <td>NaN</td>\n",
              "      <td>We're Food52, and we've created a groundbreaki...</td>\n",
              "      <td>Food52, a fast-growing, James Beard Award-winn...</td>\n",
              "      <td>Experience with content management systems a m...</td>\n",
              "      <td>NaN</td>\n",
              "      <td>0</td>\n",
              "      <td>1</td>\n",
              "      <td>0</td>\n",
              "      <td>Other</td>\n",
              "      <td>Internship</td>\n",
              "      <td>NaN</td>\n",
              "      <td>NaN</td>\n",
              "      <td>Marketing</td>\n",
              "      <td>0</td>\n",
              "    </tr>\n",
              "    <tr>\n",
              "      <th>1</th>\n",
              "      <td>2</td>\n",
              "      <td>Customer Service - Cloud Video Production</td>\n",
              "      <td>NZ, , Auckland</td>\n",
              "      <td>Success</td>\n",
              "      <td>NaN</td>\n",
              "      <td>90 Seconds, the worlds Cloud Video Production ...</td>\n",
              "      <td>Organised - Focused - Vibrant - Awesome!Do you...</td>\n",
              "      <td>What we expect from you:Your key responsibilit...</td>\n",
              "      <td>What you will get from usThrough being part of...</td>\n",
              "      <td>0</td>\n",
              "      <td>1</td>\n",
              "      <td>0</td>\n",
              "      <td>Full-time</td>\n",
              "      <td>Not Applicable</td>\n",
              "      <td>NaN</td>\n",
              "      <td>Marketing and Advertising</td>\n",
              "      <td>Customer Service</td>\n",
              "      <td>0</td>\n",
              "    </tr>\n",
              "    <tr>\n",
              "      <th>2</th>\n",
              "      <td>3</td>\n",
              "      <td>Commissioning Machinery Assistant (CMA)</td>\n",
              "      <td>US, IA, Wever</td>\n",
              "      <td>NaN</td>\n",
              "      <td>NaN</td>\n",
              "      <td>Valor Services provides Workforce Solutions th...</td>\n",
              "      <td>Our client, located in Houston, is actively se...</td>\n",
              "      <td>Implement pre-commissioning and commissioning ...</td>\n",
              "      <td>NaN</td>\n",
              "      <td>0</td>\n",
              "      <td>1</td>\n",
              "      <td>0</td>\n",
              "      <td>NaN</td>\n",
              "      <td>NaN</td>\n",
              "      <td>NaN</td>\n",
              "      <td>NaN</td>\n",
              "      <td>NaN</td>\n",
              "      <td>0</td>\n",
              "    </tr>\n",
              "    <tr>\n",
              "      <th>3</th>\n",
              "      <td>4</td>\n",
              "      <td>Account Executive - Washington DC</td>\n",
              "      <td>US, DC, Washington</td>\n",
              "      <td>Sales</td>\n",
              "      <td>NaN</td>\n",
              "      <td>Our passion for improving quality of life thro...</td>\n",
              "      <td>THE COMPANY: ESRI – Environmental Systems Rese...</td>\n",
              "      <td>EDUCATION: Bachelor’s or Master’s in GIS, busi...</td>\n",
              "      <td>Our culture is anything but corporate—we have ...</td>\n",
              "      <td>0</td>\n",
              "      <td>1</td>\n",
              "      <td>0</td>\n",
              "      <td>Full-time</td>\n",
              "      <td>Mid-Senior level</td>\n",
              "      <td>Bachelor's Degree</td>\n",
              "      <td>Computer Software</td>\n",
              "      <td>Sales</td>\n",
              "      <td>0</td>\n",
              "    </tr>\n",
              "    <tr>\n",
              "      <th>4</th>\n",
              "      <td>5</td>\n",
              "      <td>Bill Review Manager</td>\n",
              "      <td>US, FL, Fort Worth</td>\n",
              "      <td>NaN</td>\n",
              "      <td>NaN</td>\n",
              "      <td>SpotSource Solutions LLC is a Global Human Cap...</td>\n",
              "      <td>JOB TITLE: Itemization Review ManagerLOCATION:...</td>\n",
              "      <td>QUALIFICATIONS:RN license in the State of Texa...</td>\n",
              "      <td>Full Benefits Offered</td>\n",
              "      <td>0</td>\n",
              "      <td>1</td>\n",
              "      <td>1</td>\n",
              "      <td>Full-time</td>\n",
              "      <td>Mid-Senior level</td>\n",
              "      <td>Bachelor's Degree</td>\n",
              "      <td>Hospital &amp; Health Care</td>\n",
              "      <td>Health Care Provider</td>\n",
              "      <td>0</td>\n",
              "    </tr>\n",
              "  </tbody>\n",
              "</table>\n",
              "</div>"
            ],
            "text/plain": [
              "   job_id  ... fraudulent\n",
              "0       1  ...          0\n",
              "1       2  ...          0\n",
              "2       3  ...          0\n",
              "3       4  ...          0\n",
              "4       5  ...          0\n",
              "\n",
              "[5 rows x 18 columns]"
            ]
          },
          "metadata": {
            "tags": []
          },
          "execution_count": 3
        }
      ]
    },
    {
      "cell_type": "code",
      "metadata": {
        "id": "wZx-9PtseSSM",
        "outputId": "112d4fa5-fda5-4d29-ae8f-f151b534620a",
        "colab": {
          "base_uri": "https://localhost:8080/"
        }
      },
      "source": [
        "df.columns"
      ],
      "execution_count": 4,
      "outputs": [
        {
          "output_type": "execute_result",
          "data": {
            "text/plain": [
              "Index(['job_id', 'title', 'location', 'department', 'salary_range',\n",
              "       'company_profile', 'description', 'requirements', 'benefits',\n",
              "       'telecommuting', 'has_company_logo', 'has_questions', 'employment_type',\n",
              "       'required_experience', 'required_education', 'industry', 'function',\n",
              "       'fraudulent'],\n",
              "      dtype='object')"
            ]
          },
          "metadata": {
            "tags": []
          },
          "execution_count": 4
        }
      ]
    },
    {
      "cell_type": "code",
      "metadata": {
        "id": "NShAMHONAs6C",
        "outputId": "5dfc447c-bed5-457e-bf09-679a2f6bed6f",
        "colab": {
          "base_uri": "https://localhost:8080/"
        }
      },
      "source": [
        "print(\"DataFrame Shape\" , df.shape)\n",
        "print(\"Fraudulent Data Distribution\", df.value_counts(\"fraudulent\") )"
      ],
      "execution_count": 5,
      "outputs": [
        {
          "output_type": "stream",
          "text": [
            "DataFrame Shape (17880, 18)\n",
            "Fraudulent Data Distribution fraudulent\n",
            "0    17014\n",
            "1      866\n",
            "dtype: int64\n"
          ],
          "name": "stdout"
        }
      ]
    },
    {
      "cell_type": "code",
      "metadata": {
        "id": "KQOq9H0NkTuU",
        "outputId": "0b928631-a09c-4ce1-82cb-0a07fa730be9",
        "colab": {
          "base_uri": "https://localhost:8080/",
          "height": 335
        }
      },
      "source": [
        "#Distribution of fradulent feature\n",
        "\n",
        "fig = plt.subplots(1,1)\n",
        "temp = df[\"fraudulent\"].value_counts()\n",
        "sns.barplot(temp.index, temp)\n",
        "label  = [\"Non-fraudulent\", \"Fraudulent\"]\n",
        "x = [0,1] \n",
        "plt.ylabel(' ')\n",
        "plt.xticks(x , label)\n",
        "plt.title('Fradulent Distribution in Dataset', fontsize=13)\n",
        "plt.show()"
      ],
      "execution_count": 6,
      "outputs": [
        {
          "output_type": "stream",
          "text": [
            "/usr/local/lib/python3.6/dist-packages/seaborn/_decorators.py:43: FutureWarning: Pass the following variables as keyword args: x, y. From version 0.12, the only valid positional argument will be `data`, and passing other arguments without an explicit keyword will result in an error or misinterpretation.\n",
            "  FutureWarning\n"
          ],
          "name": "stderr"
        },
        {
          "output_type": "display_data",
          "data": {
            "image/png": "[encoded data removed]",
            "text/plain": [
              "<Figure size 432x288 with 1 Axes>"
            ]
          },
          "metadata": {
            "tags": [],
            "needs_background": "light"
          }
        }
      ]
    },
    {
      "cell_type": "code",
      "metadata": {
        "id": "aIo_hLigAs6G",
        "outputId": "a44bbf96-b0f6-45ce-d946-c81ec0de0dc3",
        "colab": {
          "base_uri": "https://localhost:8080/"
        }
      },
      "source": [
        "#Finding unique attribute values. \n",
        "df.nunique()"
      ],
      "execution_count": 7,
      "outputs": [
        {
          "output_type": "execute_result",
          "data": {
            "text/plain": [
              "job_id                 17880\n",
              "title                  11231\n",
              "location                3105\n",
              "department              1337\n",
              "salary_range             874\n",
              "company_profile         1709\n",
              "description            14801\n",
              "requirements           11968\n",
              "benefits                6205\n",
              "telecommuting              2\n",
              "has_company_logo           2\n",
              "has_questions              2\n",
              "employment_type            5\n",
              "required_experience        7\n",
              "required_education        13\n",
              "industry                 131\n",
              "function                  37\n",
              "fraudulent                 2\n",
              "dtype: int64"
            ]
          },
          "metadata": {
            "tags": []
          },
          "execution_count": 7
        }
      ]
    },
    {
      "cell_type": "code",
      "metadata": {
        "id": "fz9uYOWnAs6J",
        "outputId": "2add07f3-86a7-4696-c38a-3e60231d5aa8",
        "colab": {
          "base_uri": "https://localhost:8080/"
        }
      },
      "source": [
        "#finding range of missing values\n",
        "df.isna().sum() / len(df)"
      ],
      "execution_count": 8,
      "outputs": [
        {
          "output_type": "execute_result",
          "data": {
            "text/plain": [
              "job_id                 0.000000\n",
              "title                  0.000000\n",
              "location               0.019351\n",
              "department             0.645805\n",
              "salary_range           0.839597\n",
              "company_profile        0.185011\n",
              "description            0.000056\n",
              "requirements           0.150727\n",
              "benefits               0.403244\n",
              "telecommuting          0.000000\n",
              "has_company_logo       0.000000\n",
              "has_questions          0.000000\n",
              "employment_type        0.194128\n",
              "required_experience    0.394295\n",
              "required_education     0.453300\n",
              "industry               0.274217\n",
              "function               0.361018\n",
              "fraudulent             0.000000\n",
              "dtype: float64"
            ]
          },
          "metadata": {
            "tags": []
          },
          "execution_count": 8
        }
      ]
    },
    {
      "cell_type": "code",
      "metadata": {
        "id": "g2x7eUknAs6M"
      },
      "source": [
        "df2 = df.copy()"
      ],
      "execution_count": 9,
      "outputs": []
    },
    {
      "cell_type": "code",
      "metadata": {
        "id": "PdjU7X4nAs6Q"
      },
      "source": [
        "# dropping on the base of domain knowledge and missiing values\n",
        "df2.drop(['job_id','department','salary_range','benefits'], axis = 1, inplace = True)"
      ],
      "execution_count": 10,
      "outputs": []
    },
    {
      "cell_type": "code",
      "metadata": {
        "id": "vP6wVCIFAs6T",
        "outputId": "38f94682-d633-4c4b-9d43-9ad52980dd14",
        "colab": {
          "base_uri": "https://localhost:8080/",
          "height": 462
        }
      },
      "source": [
        "df2.head()"
      ],
      "execution_count": 11,
      "outputs": [
        {
          "output_type": "execute_result",
          "data": {
            "text/html": [
              "<div>\n",
              "<style scoped>\n",
              "    .dataframe tbody tr th:only-of-type {\n",
              "        vertical-align: middle;\n",
              "    }\n",
              "\n",
              "    .dataframe tbody tr th {\n",
              "        vertical-align: top;\n",
              "    }\n",
              "\n",
              "    .dataframe thead th {\n",
              "        text-align: right;\n",
              "    }\n",
              "</style>\n",
              "<table border=\"1\" class=\"dataframe\">\n",
              "  <thead>\n",
              "    <tr style=\"text-align: right;\">\n",
              "      <th></th>\n",
              "      <th>title</th>\n",
              "      <th>location</th>\n",
              "      <th>company_profile</th>\n",
              "      <th>description</th>\n",
              "      <th>requirements</th>\n",
              "      <th>telecommuting</th>\n",
              "      <th>has_company_logo</th>\n",
              "      <th>has_questions</th>\n",
              "      <th>employment_type</th>\n",
              "      <th>required_experience</th>\n",
              "      <th>required_education</th>\n",
              "      <th>industry</th>\n",
              "      <th>function</th>\n",
              "      <th>fraudulent</th>\n",
              "    </tr>\n",
              "  </thead>\n",
              "  <tbody>\n",
              "    <tr>\n",
              "      <th>0</th>\n",
              "      <td>Marketing Intern</td>\n",
              "      <td>US, NY, New York</td>\n",
              "      <td>We're Food52, and we've created a groundbreaki...</td>\n",
              "      <td>Food52, a fast-growing, James Beard Award-winn...</td>\n",
              "      <td>Experience with content management systems a m...</td>\n",
              "      <td>0</td>\n",
              "      <td>1</td>\n",
              "      <td>0</td>\n",
              "      <td>Other</td>\n",
              "      <td>Internship</td>\n",
              "      <td>NaN</td>\n",
              "      <td>NaN</td>\n",
              "      <td>Marketing</td>\n",
              "      <td>0</td>\n",
              "    </tr>\n",
              "    <tr>\n",
              "      <th>1</th>\n",
              "      <td>Customer Service - Cloud Video Production</td>\n",
              "      <td>NZ, , Auckland</td>\n",
              "      <td>90 Seconds, the worlds Cloud Video Production ...</td>\n",
              "      <td>Organised - Focused - Vibrant - Awesome!Do you...</td>\n",
              "      <td>What we expect from you:Your key responsibilit...</td>\n",
              "      <td>0</td>\n",
              "      <td>1</td>\n",
              "      <td>0</td>\n",
              "      <td>Full-time</td>\n",
              "      <td>Not Applicable</td>\n",
              "      <td>NaN</td>\n",
              "      <td>Marketing and Advertising</td>\n",
              "      <td>Customer Service</td>\n",
              "      <td>0</td>\n",
              "    </tr>\n",
              "    <tr>\n",
              "      <th>2</th>\n",
              "      <td>Commissioning Machinery Assistant (CMA)</td>\n",
              "      <td>US, IA, Wever</td>\n",
              "      <td>Valor Services provides Workforce Solutions th...</td>\n",
              "      <td>Our client, located in Houston, is actively se...</td>\n",
              "      <td>Implement pre-commissioning and commissioning ...</td>\n",
              "      <td>0</td>\n",
              "      <td>1</td>\n",
              "      <td>0</td>\n",
              "      <td>NaN</td>\n",
              "      <td>NaN</td>\n",
              "      <td>NaN</td>\n",
              "      <td>NaN</td>\n",
              "      <td>NaN</td>\n",
              "      <td>0</td>\n",
              "    </tr>\n",
              "    <tr>\n",
              "      <th>3</th>\n",
              "      <td>Account Executive - Washington DC</td>\n",
              "      <td>US, DC, Washington</td>\n",
              "      <td>Our passion for improving quality of life thro...</td>\n",
              "      <td>THE COMPANY: ESRI – Environmental Systems Rese...</td>\n",
              "      <td>EDUCATION: Bachelor’s or Master’s in GIS, busi...</td>\n",
              "      <td>0</td>\n",
              "      <td>1</td>\n",
              "      <td>0</td>\n",
              "      <td>Full-time</td>\n",
              "      <td>Mid-Senior level</td>\n",
              "      <td>Bachelor's Degree</td>\n",
              "      <td>Computer Software</td>\n",
              "      <td>Sales</td>\n",
              "      <td>0</td>\n",
              "    </tr>\n",
              "    <tr>\n",
              "      <th>4</th>\n",
              "      <td>Bill Review Manager</td>\n",
              "      <td>US, FL, Fort Worth</td>\n",
              "      <td>SpotSource Solutions LLC is a Global Human Cap...</td>\n",
              "      <td>JOB TITLE: Itemization Review ManagerLOCATION:...</td>\n",
              "      <td>QUALIFICATIONS:RN license in the State of Texa...</td>\n",
              "      <td>0</td>\n",
              "      <td>1</td>\n",
              "      <td>1</td>\n",
              "      <td>Full-time</td>\n",
              "      <td>Mid-Senior level</td>\n",
              "      <td>Bachelor's Degree</td>\n",
              "      <td>Hospital &amp; Health Care</td>\n",
              "      <td>Health Care Provider</td>\n",
              "      <td>0</td>\n",
              "    </tr>\n",
              "  </tbody>\n",
              "</table>\n",
              "</div>"
            ],
            "text/plain": [
              "                                       title  ... fraudulent\n",
              "0                           Marketing Intern  ...          0\n",
              "1  Customer Service - Cloud Video Production  ...          0\n",
              "2    Commissioning Machinery Assistant (CMA)  ...          0\n",
              "3          Account Executive - Washington DC  ...          0\n",
              "4                        Bill Review Manager  ...          0\n",
              "\n",
              "[5 rows x 14 columns]"
            ]
          },
          "metadata": {
            "tags": []
          },
          "execution_count": 11
        }
      ]
    },
    {
      "cell_type": "markdown",
      "metadata": {
        "id": "RYwxE_8HfjK9"
      },
      "source": [
        "### **Handling** **Missing** **values**"
      ]
    },
    {
      "cell_type": "code",
      "metadata": {
        "id": "kkfpplgLAs6Z",
        "outputId": "a0846410-5499-4de6-c7b7-c26669770ac7",
        "colab": {
          "base_uri": "https://localhost:8080/"
        }
      },
      "source": [
        "#finding null values \n",
        "df2.isna().sum()"
      ],
      "execution_count": 12,
      "outputs": [
        {
          "output_type": "execute_result",
          "data": {
            "text/plain": [
              "title                     0\n",
              "location                346\n",
              "company_profile        3308\n",
              "description               1\n",
              "requirements           2695\n",
              "telecommuting             0\n",
              "has_company_logo          0\n",
              "has_questions             0\n",
              "employment_type        3471\n",
              "required_experience    7050\n",
              "required_education     8105\n",
              "industry               4903\n",
              "function               6455\n",
              "fraudulent                0\n",
              "dtype: int64"
            ]
          },
          "metadata": {
            "tags": []
          },
          "execution_count": 12
        }
      ]
    },
    {
      "cell_type": "code",
      "metadata": {
        "id": "D27Agp4Sfq0H"
      },
      "source": [
        "df2 = df2.sort_values('title').reset_index(drop = True)"
      ],
      "execution_count": 13,
      "outputs": []
    },
    {
      "cell_type": "code",
      "metadata": {
        "id": "fWAB4vLJgLCL"
      },
      "source": [
        "# Delete one null row of description \n",
        "df2 = df2[df2['description'].notna()]"
      ],
      "execution_count": 14,
      "outputs": []
    },
    {
      "cell_type": "markdown",
      "metadata": {
        "id": "u7LM5Ip1p35s"
      },
      "source": [
        "##Hyptheses 1 - Number of words used in real and fake jobs are significantly different"
      ]
    },
    {
      "cell_type": "code",
      "metadata": {
        "id": "gHUZDRYnpMre",
        "outputId": "68aa860c-6fe3-4613-e078-207eb45d5218",
        "colab": {
          "base_uri": "https://localhost:8080/",
          "height": 375
        }
      },
      "source": [
        "fig,(ax1,ax2)= plt.subplots(ncols=2, figsize=(17, 5), dpi=100)\n",
        "num=df2[df2[\"fraudulent\"]==1]['description'].str.split().map(lambda x: len(x))\n",
        "ax1.hist(num,bins = 20,color='orangered')\n",
        "ax1.set_title('Fake Post')\n",
        "num=df2[df2[\"fraudulent\"]==0]['description'].str.split().map(lambda x: len(x))\n",
        "ax2.hist(num, bins = 20)\n",
        "ax2.set_title('Real Post')\n",
        "fig.suptitle('Words in description')\n",
        "ax1.set_xlabel('Number of words')\n",
        "ax1.set_ylabel(\"Number of job posts\")\n",
        "ax2.set_xlabel('Number of words')\n",
        "ax2.set_ylabel(\"Number of job posts\")\n",
        "plt.savefig(\"number of words\")\n",
        "plt.show()"
      ],
      "execution_count": 15,
      "outputs": [
        {
          "output_type": "display_data",
          "data": {
            "image/png": "[encoded data removed]",
            "text/plain": [
              "<Figure size 1700x500 with 2 Axes>"
            ]
          },
          "metadata": {
            "tags": [],
            "needs_background": "light"
          }
        }
      ]
    },
    {
      "cell_type": "code",
      "metadata": {
        "id": "U0FMosyhAs6c"
      },
      "source": [
        "# Backward filling the null values before below columns\n",
        "df2['employment_type'] = df2['employment_type'].bfill(axis=0)\n",
        "df2['required_experience'] = df2['required_experience'].bfill(axis=0)\n",
        "df2['required_education'] = df2['required_education'].bfill(axis = 0)\n",
        "df2['industry'] = df2['industry'].bfill(axis=0)\n",
        "df2['function'] = df2['function'].bfill(axis=0)"
      ],
      "execution_count": 16,
      "outputs": []
    },
    {
      "cell_type": "code",
      "metadata": {
        "id": "dPeIc78gAs6l",
        "outputId": "e6542e17-3250-4630-b21d-2bb06d9b9e40",
        "colab": {
          "base_uri": "https://localhost:8080/"
        }
      },
      "source": [
        "# verifying after backward filling\n",
        "df2.isna().sum()"
      ],
      "execution_count": 17,
      "outputs": [
        {
          "output_type": "execute_result",
          "data": {
            "text/plain": [
              "title                     0\n",
              "location                346\n",
              "company_profile        3307\n",
              "description               0\n",
              "requirements           2694\n",
              "telecommuting             0\n",
              "has_company_logo          0\n",
              "has_questions             0\n",
              "employment_type           2\n",
              "required_experience       2\n",
              "required_education        2\n",
              "industry                  2\n",
              "function                  2\n",
              "fraudulent                0\n",
              "dtype: int64"
            ]
          },
          "metadata": {
            "tags": []
          },
          "execution_count": 17
        }
      ]
    },
    {
      "cell_type": "code",
      "metadata": {
        "id": "fPEyWfQ5As6o"
      },
      "source": [
        "# dropping rest of all null values\n",
        "df2 = df2.dropna(axis = 0, how = 'any')"
      ],
      "execution_count": 18,
      "outputs": []
    },
    {
      "cell_type": "code",
      "metadata": {
        "id": "DlBxtwOEAs6u"
      },
      "source": [
        "#remove duplicates\n",
        "df2 = df2.drop_duplicates(keep = 'first')"
      ],
      "execution_count": 19,
      "outputs": []
    },
    {
      "cell_type": "code",
      "metadata": {
        "id": "OEUU0hR9As61",
        "outputId": "c2446849-05c4-45b9-bed4-2062674f52d8",
        "colab": {
          "base_uri": "https://localhost:8080/",
          "height": 496
        }
      },
      "source": [
        "df2.head()"
      ],
      "execution_count": 20,
      "outputs": [
        {
          "output_type": "execute_result",
          "data": {
            "text/html": [
              "<div>\n",
              "<style scoped>\n",
              "    .dataframe tbody tr th:only-of-type {\n",
              "        vertical-align: middle;\n",
              "    }\n",
              "\n",
              "    .dataframe tbody tr th {\n",
              "        vertical-align: top;\n",
              "    }\n",
              "\n",
              "    .dataframe thead th {\n",
              "        text-align: right;\n",
              "    }\n",
              "</style>\n",
              "<table border=\"1\" class=\"dataframe\">\n",
              "  <thead>\n",
              "    <tr style=\"text-align: right;\">\n",
              "      <th></th>\n",
              "      <th>title</th>\n",
              "      <th>location</th>\n",
              "      <th>company_profile</th>\n",
              "      <th>description</th>\n",
              "      <th>requirements</th>\n",
              "      <th>telecommuting</th>\n",
              "      <th>has_company_logo</th>\n",
              "      <th>has_questions</th>\n",
              "      <th>employment_type</th>\n",
              "      <th>required_experience</th>\n",
              "      <th>required_education</th>\n",
              "      <th>industry</th>\n",
              "      <th>function</th>\n",
              "      <th>fraudulent</th>\n",
              "    </tr>\n",
              "  </thead>\n",
              "  <tbody>\n",
              "    <tr>\n",
              "      <th>2</th>\n",
              "      <td>Piping Material Engineer</td>\n",
              "      <td>US, TX, Houston</td>\n",
              "      <td>Aker Solutions is a global provider of product...</td>\n",
              "      <td>Corporate overviewAker Solutions is a global p...</td>\n",
              "      <td>Qualifications &amp;amp; personal attributes• High...</td>\n",
              "      <td>0</td>\n",
              "      <td>1</td>\n",
              "      <td>0</td>\n",
              "      <td>Full-time</td>\n",
              "      <td>Mid-Senior level</td>\n",
              "      <td>Master's Degree</td>\n",
              "      <td>Oil &amp; Energy</td>\n",
              "      <td>Engineering</td>\n",
              "      <td>1</td>\n",
              "    </tr>\n",
              "    <tr>\n",
              "      <th>3</th>\n",
              "      <td>Discipline Manager Civil, Structural, Marine...</td>\n",
              "      <td>US, TX, Houston</td>\n",
              "      <td>Aker Solutions is a global provider of product...</td>\n",
              "      <td>Corporate overviewAker Solutions is a global p...</td>\n",
              "      <td>EXPERIENCE: - Good awareness of construction,t...</td>\n",
              "      <td>0</td>\n",
              "      <td>1</td>\n",
              "      <td>0</td>\n",
              "      <td>Full-time</td>\n",
              "      <td>Entry level</td>\n",
              "      <td>Professional</td>\n",
              "      <td>Oil &amp; Energy</td>\n",
              "      <td>Engineering</td>\n",
              "      <td>1</td>\n",
              "    </tr>\n",
              "    <tr>\n",
              "      <th>4</th>\n",
              "      <td>FEA Senior engineer</td>\n",
              "      <td>US, TX, Houston</td>\n",
              "      <td>Aker Solutions is a global provider of product...</td>\n",
              "      <td>Corporate overviewAker Solutions is a global p...</td>\n",
              "      <td>Qualifications &amp;amp; personal attributes• MSc ...</td>\n",
              "      <td>0</td>\n",
              "      <td>1</td>\n",
              "      <td>0</td>\n",
              "      <td>Full-time</td>\n",
              "      <td>Entry level</td>\n",
              "      <td>Master's Degree</td>\n",
              "      <td>Oil &amp; Energy</td>\n",
              "      <td>Engineering</td>\n",
              "      <td>1</td>\n",
              "    </tr>\n",
              "    <tr>\n",
              "      <th>9</th>\n",
              "      <td>AUTOCAD OPERATOR</td>\n",
              "      <td>PH, 07, Cebu</td>\n",
              "      <td>Zylun’s mission is to help small and medium si...</td>\n",
              "      <td>Responsibilities:Using a project database syst...</td>\n",
              "      <td>Requirements:1-3 years’ experience of CAD base...</td>\n",
              "      <td>0</td>\n",
              "      <td>1</td>\n",
              "      <td>0</td>\n",
              "      <td>Full-time</td>\n",
              "      <td>Mid-Senior level</td>\n",
              "      <td>Bachelor's Degree</td>\n",
              "      <td>Staffing and Recruiting</td>\n",
              "      <td>Engineering</td>\n",
              "      <td>0</td>\n",
              "    </tr>\n",
              "    <tr>\n",
              "      <th>13</th>\n",
              "      <td>Accounting Clerk</td>\n",
              "      <td>US, TX, AUSTIN</td>\n",
              "      <td>As the industry’s largest supply contracting c...</td>\n",
              "      <td>Job DescriptionVerify, obtain approvals and pa...</td>\n",
              "      <td>High School diploma requiredProficient in usin...</td>\n",
              "      <td>0</td>\n",
              "      <td>1</td>\n",
              "      <td>1</td>\n",
              "      <td>Full-time</td>\n",
              "      <td>Associate</td>\n",
              "      <td>High School or equivalent</td>\n",
              "      <td>Accounting</td>\n",
              "      <td>Customer Service</td>\n",
              "      <td>1</td>\n",
              "    </tr>\n",
              "  </tbody>\n",
              "</table>\n",
              "</div>"
            ],
            "text/plain": [
              "                                                title  ... fraudulent\n",
              "2                            Piping Material Engineer  ...          1\n",
              "3     Discipline Manager Civil, Structural, Marine...  ...          1\n",
              "4                                 FEA Senior engineer  ...          1\n",
              "9                                    AUTOCAD OPERATOR  ...          0\n",
              "13                                  Accounting Clerk   ...          1\n",
              "\n",
              "[5 rows x 14 columns]"
            ]
          },
          "metadata": {
            "tags": []
          },
          "execution_count": 20
        }
      ]
    },
    {
      "cell_type": "markdown",
      "metadata": {
        "id": "9fOmYFTjt-6h"
      },
      "source": [
        "##Hyptheses 2 - Fake jobs are independent of Career levels"
      ]
    },
    {
      "cell_type": "code",
      "metadata": {
        "id": "bLA3-5OMrZ7r",
        "outputId": "b3dd4089-a0f9-4598-b651-fa9c527ac3aa",
        "colab": {
          "base_uri": "https://localhost:8080/",
          "height": 406
        }
      },
      "source": [
        "fig = plt.subplots(1,1)\n",
        "temp = df2[df2[\"fraudulent\"]==1]['required_experience'].value_counts()\n",
        "sns.barplot(temp.index, temp)\n",
        "plt.ylabel('Fraudulent Job Postings')\n",
        "plt.xticks(rotation=90)\n",
        "plt.title('Fradulent Distribution over Required Experience', fontsize=13)\n",
        "plt.savefig(\"Expereince\")\n",
        "plt.show()"
      ],
      "execution_count": 21,
      "outputs": [
        {
          "output_type": "stream",
          "text": [
            "/usr/local/lib/python3.6/dist-packages/seaborn/_decorators.py:43: FutureWarning: Pass the following variables as keyword args: x, y. From version 0.12, the only valid positional argument will be `data`, and passing other arguments without an explicit keyword will result in an error or misinterpretation.\n",
            "  FutureWarning\n"
          ],
          "name": "stderr"
        },
        {
          "output_type": "display_data",
          "data": {
            "image/png": "[encoded data removed]",
            "text/plain": [
              "<Figure size 432x288 with 1 Axes>"
            ]
          },
          "metadata": {
            "tags": [],
            "needs_background": "light"
          }
        }
      ]
    },
    {
      "cell_type": "markdown",
      "metadata": {
        "id": "JvMaztlYt63q"
      },
      "source": [
        "##Hyptheses 3 - There is no recruitment process for fake jobs"
      ]
    },
    {
      "cell_type": "code",
      "metadata": {
        "id": "NFJWwhiqtH2s",
        "outputId": "137d9a10-d153-4a3c-bebe-4d52bab8c581",
        "colab": {
          "base_uri": "https://localhost:8080/",
          "height": 335
        }
      },
      "source": [
        "fig = plt.subplots(1,1)\n",
        "temp = temp = df2[df2[\"fraudulent\"]==1]['has_questions'].value_counts()\n",
        "sns.barplot(temp.index, temp)\n",
        "label  = [\"Not Applicable\", \"Applicable\"]\n",
        "x = [0,1] \n",
        "plt.ylabel('Fraudulent Job Postings')\n",
        "plt.xticks(x , label)\n",
        "plt.title('Fradulent Distribution over Recruitment Process', fontsize=13)\n",
        "plt.savefig(\"recruitment\")\n",
        "plt.show()"
      ],
      "execution_count": 22,
      "outputs": [
        {
          "output_type": "stream",
          "text": [
            "/usr/local/lib/python3.6/dist-packages/seaborn/_decorators.py:43: FutureWarning: Pass the following variables as keyword args: x, y. From version 0.12, the only valid positional argument will be `data`, and passing other arguments without an explicit keyword will result in an error or misinterpretation.\n",
            "  FutureWarning\n"
          ],
          "name": "stderr"
        },
        {
          "output_type": "display_data",
          "data": {
            "image/png": "[encoded data removed]",
            "text/plain": [
              "<Figure size 432x288 with 1 Axes>"
            ]
          },
          "metadata": {
            "tags": [],
            "needs_background": "light"
          }
        }
      ]
    },
    {
      "cell_type": "code",
      "metadata": {
        "id": "kzdCE_SlAs67"
      },
      "source": [
        "# combining description, requirement and company  profile because they provide similar information for job\n",
        "df2['description'] = df2['description'] + ' ' + df2['requirements'] + ' ' + df2['company_profile']\n",
        "df2.drop(['company_profile', 'requirements'], axis = 1, inplace = True)"
      ],
      "execution_count": 23,
      "outputs": []
    },
    {
      "cell_type": "code",
      "metadata": {
        "id": "rfbwmlfsg-ar",
        "outputId": "900aaf8b-14d0-4df2-c53c-d16b7573641b",
        "colab": {
          "base_uri": "https://localhost:8080/",
          "height": 332
        }
      },
      "source": [
        "df2.head(3)"
      ],
      "execution_count": 24,
      "outputs": [
        {
          "output_type": "execute_result",
          "data": {
            "text/html": [
              "<div>\n",
              "<style scoped>\n",
              "    .dataframe tbody tr th:only-of-type {\n",
              "        vertical-align: middle;\n",
              "    }\n",
              "\n",
              "    .dataframe tbody tr th {\n",
              "        vertical-align: top;\n",
              "    }\n",
              "\n",
              "    .dataframe thead th {\n",
              "        text-align: right;\n",
              "    }\n",
              "</style>\n",
              "<table border=\"1\" class=\"dataframe\">\n",
              "  <thead>\n",
              "    <tr style=\"text-align: right;\">\n",
              "      <th></th>\n",
              "      <th>title</th>\n",
              "      <th>location</th>\n",
              "      <th>description</th>\n",
              "      <th>telecommuting</th>\n",
              "      <th>has_company_logo</th>\n",
              "      <th>has_questions</th>\n",
              "      <th>employment_type</th>\n",
              "      <th>required_experience</th>\n",
              "      <th>required_education</th>\n",
              "      <th>industry</th>\n",
              "      <th>function</th>\n",
              "      <th>fraudulent</th>\n",
              "    </tr>\n",
              "  </thead>\n",
              "  <tbody>\n",
              "    <tr>\n",
              "      <th>2</th>\n",
              "      <td>Piping Material Engineer</td>\n",
              "      <td>US, TX, Houston</td>\n",
              "      <td>Corporate overviewAker Solutions is a global p...</td>\n",
              "      <td>0</td>\n",
              "      <td>1</td>\n",
              "      <td>0</td>\n",
              "      <td>Full-time</td>\n",
              "      <td>Mid-Senior level</td>\n",
              "      <td>Master's Degree</td>\n",
              "      <td>Oil &amp; Energy</td>\n",
              "      <td>Engineering</td>\n",
              "      <td>1</td>\n",
              "    </tr>\n",
              "    <tr>\n",
              "      <th>3</th>\n",
              "      <td>Discipline Manager Civil, Structural, Marine...</td>\n",
              "      <td>US, TX, Houston</td>\n",
              "      <td>Corporate overviewAker Solutions is a global p...</td>\n",
              "      <td>0</td>\n",
              "      <td>1</td>\n",
              "      <td>0</td>\n",
              "      <td>Full-time</td>\n",
              "      <td>Entry level</td>\n",
              "      <td>Professional</td>\n",
              "      <td>Oil &amp; Energy</td>\n",
              "      <td>Engineering</td>\n",
              "      <td>1</td>\n",
              "    </tr>\n",
              "    <tr>\n",
              "      <th>4</th>\n",
              "      <td>FEA Senior engineer</td>\n",
              "      <td>US, TX, Houston</td>\n",
              "      <td>Corporate overviewAker Solutions is a global p...</td>\n",
              "      <td>0</td>\n",
              "      <td>1</td>\n",
              "      <td>0</td>\n",
              "      <td>Full-time</td>\n",
              "      <td>Entry level</td>\n",
              "      <td>Master's Degree</td>\n",
              "      <td>Oil &amp; Energy</td>\n",
              "      <td>Engineering</td>\n",
              "      <td>1</td>\n",
              "    </tr>\n",
              "  </tbody>\n",
              "</table>\n",
              "</div>"
            ],
            "text/plain": [
              "                                               title  ... fraudulent\n",
              "2                           Piping Material Engineer  ...          1\n",
              "3    Discipline Manager Civil, Structural, Marine...  ...          1\n",
              "4                                FEA Senior engineer  ...          1\n",
              "\n",
              "[3 rows x 12 columns]"
            ]
          },
          "metadata": {
            "tags": []
          },
          "execution_count": 24
        }
      ]
    },
    {
      "cell_type": "code",
      "metadata": {
        "id": "xkfVIeS-As7B"
      },
      "source": [
        "#Splitting location on the base of city and country code \n",
        "df2['city'] = df2['location'].str.split(',', expand = True)[2]\n",
        "df2['country_code'] = df2['location'].str.split(',', expand=True)[0]\n"
      ],
      "execution_count": 25,
      "outputs": []
    },
    {
      "cell_type": "code",
      "metadata": {
        "id": "s8mIWZ9BAs7F",
        "outputId": "a3d50456-f507-47da-d870-f9cd6ea6dfde",
        "colab": {
          "base_uri": "https://localhost:8080/",
          "height": 462
        }
      },
      "source": [
        "df2.head()"
      ],
      "execution_count": 26,
      "outputs": [
        {
          "output_type": "execute_result",
          "data": {
            "text/html": [
              "<div>\n",
              "<style scoped>\n",
              "    .dataframe tbody tr th:only-of-type {\n",
              "        vertical-align: middle;\n",
              "    }\n",
              "\n",
              "    .dataframe tbody tr th {\n",
              "        vertical-align: top;\n",
              "    }\n",
              "\n",
              "    .dataframe thead th {\n",
              "        text-align: right;\n",
              "    }\n",
              "</style>\n",
              "<table border=\"1\" class=\"dataframe\">\n",
              "  <thead>\n",
              "    <tr style=\"text-align: right;\">\n",
              "      <th></th>\n",
              "      <th>title</th>\n",
              "      <th>location</th>\n",
              "      <th>description</th>\n",
              "      <th>telecommuting</th>\n",
              "      <th>has_company_logo</th>\n",
              "      <th>has_questions</th>\n",
              "      <th>employment_type</th>\n",
              "      <th>required_experience</th>\n",
              "      <th>required_education</th>\n",
              "      <th>industry</th>\n",
              "      <th>function</th>\n",
              "      <th>fraudulent</th>\n",
              "      <th>city</th>\n",
              "      <th>country_code</th>\n",
              "    </tr>\n",
              "  </thead>\n",
              "  <tbody>\n",
              "    <tr>\n",
              "      <th>2</th>\n",
              "      <td>Piping Material Engineer</td>\n",
              "      <td>US, TX, Houston</td>\n",
              "      <td>Corporate overviewAker Solutions is a global p...</td>\n",
              "      <td>0</td>\n",
              "      <td>1</td>\n",
              "      <td>0</td>\n",
              "      <td>Full-time</td>\n",
              "      <td>Mid-Senior level</td>\n",
              "      <td>Master's Degree</td>\n",
              "      <td>Oil &amp; Energy</td>\n",
              "      <td>Engineering</td>\n",
              "      <td>1</td>\n",
              "      <td>Houston</td>\n",
              "      <td>US</td>\n",
              "    </tr>\n",
              "    <tr>\n",
              "      <th>3</th>\n",
              "      <td>Discipline Manager Civil, Structural, Marine...</td>\n",
              "      <td>US, TX, Houston</td>\n",
              "      <td>Corporate overviewAker Solutions is a global p...</td>\n",
              "      <td>0</td>\n",
              "      <td>1</td>\n",
              "      <td>0</td>\n",
              "      <td>Full-time</td>\n",
              "      <td>Entry level</td>\n",
              "      <td>Professional</td>\n",
              "      <td>Oil &amp; Energy</td>\n",
              "      <td>Engineering</td>\n",
              "      <td>1</td>\n",
              "      <td>Houston</td>\n",
              "      <td>US</td>\n",
              "    </tr>\n",
              "    <tr>\n",
              "      <th>4</th>\n",
              "      <td>FEA Senior engineer</td>\n",
              "      <td>US, TX, Houston</td>\n",
              "      <td>Corporate overviewAker Solutions is a global p...</td>\n",
              "      <td>0</td>\n",
              "      <td>1</td>\n",
              "      <td>0</td>\n",
              "      <td>Full-time</td>\n",
              "      <td>Entry level</td>\n",
              "      <td>Master's Degree</td>\n",
              "      <td>Oil &amp; Energy</td>\n",
              "      <td>Engineering</td>\n",
              "      <td>1</td>\n",
              "      <td>Houston</td>\n",
              "      <td>US</td>\n",
              "    </tr>\n",
              "    <tr>\n",
              "      <th>9</th>\n",
              "      <td>AUTOCAD OPERATOR</td>\n",
              "      <td>PH, 07, Cebu</td>\n",
              "      <td>Responsibilities:Using a project database syst...</td>\n",
              "      <td>0</td>\n",
              "      <td>1</td>\n",
              "      <td>0</td>\n",
              "      <td>Full-time</td>\n",
              "      <td>Mid-Senior level</td>\n",
              "      <td>Bachelor's Degree</td>\n",
              "      <td>Staffing and Recruiting</td>\n",
              "      <td>Engineering</td>\n",
              "      <td>0</td>\n",
              "      <td>Cebu</td>\n",
              "      <td>PH</td>\n",
              "    </tr>\n",
              "    <tr>\n",
              "      <th>13</th>\n",
              "      <td>Accounting Clerk</td>\n",
              "      <td>US, TX, AUSTIN</td>\n",
              "      <td>Job DescriptionVerify, obtain approvals and pa...</td>\n",
              "      <td>0</td>\n",
              "      <td>1</td>\n",
              "      <td>1</td>\n",
              "      <td>Full-time</td>\n",
              "      <td>Associate</td>\n",
              "      <td>High School or equivalent</td>\n",
              "      <td>Accounting</td>\n",
              "      <td>Customer Service</td>\n",
              "      <td>1</td>\n",
              "      <td>AUSTIN</td>\n",
              "      <td>US</td>\n",
              "    </tr>\n",
              "  </tbody>\n",
              "</table>\n",
              "</div>"
            ],
            "text/plain": [
              "                                                title  ... country_code\n",
              "2                            Piping Material Engineer  ...           US\n",
              "3     Discipline Manager Civil, Structural, Marine...  ...           US\n",
              "4                                 FEA Senior engineer  ...           US\n",
              "9                                    AUTOCAD OPERATOR  ...           PH\n",
              "13                                  Accounting Clerk   ...           US\n",
              "\n",
              "[5 rows x 14 columns]"
            ]
          },
          "metadata": {
            "tags": []
          },
          "execution_count": 26
        }
      ]
    },
    {
      "cell_type": "code",
      "metadata": {
        "id": "T4cWwcw8As7I"
      },
      "source": [
        "# filling by empty city by NAN\n",
        "df2.loc[df2['city'] == ' ', 'city'] = np.nan"
      ],
      "execution_count": 27,
      "outputs": []
    },
    {
      "cell_type": "code",
      "metadata": {
        "id": "Rs58M661As7L",
        "outputId": "e8904267-b6ae-4f1c-a737-648c0dff6ab5",
        "colab": {
          "base_uri": "https://localhost:8080/"
        }
      },
      "source": [
        "df2.isnull().sum()"
      ],
      "execution_count": 28,
      "outputs": [
        {
          "output_type": "execute_result",
          "data": {
            "text/plain": [
              "title                    0\n",
              "location                 0\n",
              "description              0\n",
              "telecommuting            0\n",
              "has_company_logo         0\n",
              "has_questions            0\n",
              "employment_type          0\n",
              "required_experience      0\n",
              "required_education       0\n",
              "industry                 0\n",
              "function                 0\n",
              "fraudulent               0\n",
              "city                   992\n",
              "country_code             0\n",
              "dtype: int64"
            ]
          },
          "metadata": {
            "tags": []
          },
          "execution_count": 28
        }
      ]
    },
    {
      "cell_type": "code",
      "metadata": {
        "id": "8uexKQBaAs7P"
      },
      "source": [
        "df2.dropna(inplace = True)"
      ],
      "execution_count": 29,
      "outputs": []
    },
    {
      "cell_type": "code",
      "metadata": {
        "id": "34987w2WB6yB"
      },
      "source": [
        "# Getting country name based on country code\n",
        "country_list = [i.alpha_2 for i in list(pycountry.countries)]\n",
        "def get_country_name(df):\n",
        "    if df['country_code'] in country_list:\n",
        "        return pycountry.countries.get(alpha_2 = df['country_code']).name\n",
        "df2['country_name'] = df2.apply(get_country_name, axis = 1)"
      ],
      "execution_count": 30,
      "outputs": []
    },
    {
      "cell_type": "code",
      "metadata": {
        "id": "0HwmpXqXAs7U"
      },
      "source": [
        "# removing redundant features\n",
        "df2.drop(['location', 'country_code'], axis = 1, inplace = True)"
      ],
      "execution_count": 31,
      "outputs": []
    },
    {
      "cell_type": "code",
      "metadata": {
        "id": "LJwj8i1PAs7X",
        "outputId": "beb1fe5b-a520-4fc4-e8ed-89565da7eccc",
        "colab": {
          "base_uri": "https://localhost:8080/",
          "height": 462
        }
      },
      "source": [
        "df2.head()"
      ],
      "execution_count": 32,
      "outputs": [
        {
          "output_type": "execute_result",
          "data": {
            "text/html": [
              "<div>\n",
              "<style scoped>\n",
              "    .dataframe tbody tr th:only-of-type {\n",
              "        vertical-align: middle;\n",
              "    }\n",
              "\n",
              "    .dataframe tbody tr th {\n",
              "        vertical-align: top;\n",
              "    }\n",
              "\n",
              "    .dataframe thead th {\n",
              "        text-align: right;\n",
              "    }\n",
              "</style>\n",
              "<table border=\"1\" class=\"dataframe\">\n",
              "  <thead>\n",
              "    <tr style=\"text-align: right;\">\n",
              "      <th></th>\n",
              "      <th>title</th>\n",
              "      <th>description</th>\n",
              "      <th>telecommuting</th>\n",
              "      <th>has_company_logo</th>\n",
              "      <th>has_questions</th>\n",
              "      <th>employment_type</th>\n",
              "      <th>required_experience</th>\n",
              "      <th>required_education</th>\n",
              "      <th>industry</th>\n",
              "      <th>function</th>\n",
              "      <th>fraudulent</th>\n",
              "      <th>city</th>\n",
              "      <th>country_name</th>\n",
              "    </tr>\n",
              "  </thead>\n",
              "  <tbody>\n",
              "    <tr>\n",
              "      <th>2</th>\n",
              "      <td>Piping Material Engineer</td>\n",
              "      <td>Corporate overviewAker Solutions is a global p...</td>\n",
              "      <td>0</td>\n",
              "      <td>1</td>\n",
              "      <td>0</td>\n",
              "      <td>Full-time</td>\n",
              "      <td>Mid-Senior level</td>\n",
              "      <td>Master's Degree</td>\n",
              "      <td>Oil &amp; Energy</td>\n",
              "      <td>Engineering</td>\n",
              "      <td>1</td>\n",
              "      <td>Houston</td>\n",
              "      <td>United States</td>\n",
              "    </tr>\n",
              "    <tr>\n",
              "      <th>3</th>\n",
              "      <td>Discipline Manager Civil, Structural, Marine...</td>\n",
              "      <td>Corporate overviewAker Solutions is a global p...</td>\n",
              "      <td>0</td>\n",
              "      <td>1</td>\n",
              "      <td>0</td>\n",
              "      <td>Full-time</td>\n",
              "      <td>Entry level</td>\n",
              "      <td>Professional</td>\n",
              "      <td>Oil &amp; Energy</td>\n",
              "      <td>Engineering</td>\n",
              "      <td>1</td>\n",
              "      <td>Houston</td>\n",
              "      <td>United States</td>\n",
              "    </tr>\n",
              "    <tr>\n",
              "      <th>4</th>\n",
              "      <td>FEA Senior engineer</td>\n",
              "      <td>Corporate overviewAker Solutions is a global p...</td>\n",
              "      <td>0</td>\n",
              "      <td>1</td>\n",
              "      <td>0</td>\n",
              "      <td>Full-time</td>\n",
              "      <td>Entry level</td>\n",
              "      <td>Master's Degree</td>\n",
              "      <td>Oil &amp; Energy</td>\n",
              "      <td>Engineering</td>\n",
              "      <td>1</td>\n",
              "      <td>Houston</td>\n",
              "      <td>United States</td>\n",
              "    </tr>\n",
              "    <tr>\n",
              "      <th>9</th>\n",
              "      <td>AUTOCAD OPERATOR</td>\n",
              "      <td>Responsibilities:Using a project database syst...</td>\n",
              "      <td>0</td>\n",
              "      <td>1</td>\n",
              "      <td>0</td>\n",
              "      <td>Full-time</td>\n",
              "      <td>Mid-Senior level</td>\n",
              "      <td>Bachelor's Degree</td>\n",
              "      <td>Staffing and Recruiting</td>\n",
              "      <td>Engineering</td>\n",
              "      <td>0</td>\n",
              "      <td>Cebu</td>\n",
              "      <td>Philippines</td>\n",
              "    </tr>\n",
              "    <tr>\n",
              "      <th>13</th>\n",
              "      <td>Accounting Clerk</td>\n",
              "      <td>Job DescriptionVerify, obtain approvals and pa...</td>\n",
              "      <td>0</td>\n",
              "      <td>1</td>\n",
              "      <td>1</td>\n",
              "      <td>Full-time</td>\n",
              "      <td>Associate</td>\n",
              "      <td>High School or equivalent</td>\n",
              "      <td>Accounting</td>\n",
              "      <td>Customer Service</td>\n",
              "      <td>1</td>\n",
              "      <td>AUSTIN</td>\n",
              "      <td>United States</td>\n",
              "    </tr>\n",
              "  </tbody>\n",
              "</table>\n",
              "</div>"
            ],
            "text/plain": [
              "                                                title  ...   country_name\n",
              "2                            Piping Material Engineer  ...  United States\n",
              "3     Discipline Manager Civil, Structural, Marine...  ...  United States\n",
              "4                                 FEA Senior engineer  ...  United States\n",
              "9                                    AUTOCAD OPERATOR  ...    Philippines\n",
              "13                                  Accounting Clerk   ...  United States\n",
              "\n",
              "[5 rows x 13 columns]"
            ]
          },
          "metadata": {
            "tags": []
          },
          "execution_count": 32
        }
      ]
    },
    {
      "cell_type": "code",
      "metadata": {
        "id": "Srr71mM-jlgo",
        "outputId": "c0167c36-bba9-44d1-fd0d-07ce976d1f0e",
        "colab": {
          "base_uri": "https://localhost:8080/"
        }
      },
      "source": [
        "df2.shape"
      ],
      "execution_count": 33,
      "outputs": [
        {
          "output_type": "execute_result",
          "data": {
            "text/plain": [
              "(11272, 13)"
            ]
          },
          "metadata": {
            "tags": []
          },
          "execution_count": 33
        }
      ]
    },
    {
      "cell_type": "code",
      "metadata": {
        "id": "w5ZeHVIAjrp1"
      },
      "source": [
        "df_final = df2.copy()"
      ],
      "execution_count": 34,
      "outputs": []
    },
    {
      "cell_type": "code",
      "metadata": {
        "id": "c32j9SqPAs7s",
        "outputId": "d3341e85-1ff8-44df-cd12-13a332ff461e",
        "colab": {
          "base_uri": "https://localhost:8080/",
          "height": 462
        }
      },
      "source": [
        "df_final.head()"
      ],
      "execution_count": 35,
      "outputs": [
        {
          "output_type": "execute_result",
          "data": {
            "text/html": [
              "<div>\n",
              "<style scoped>\n",
              "    .dataframe tbody tr th:only-of-type {\n",
              "        vertical-align: middle;\n",
              "    }\n",
              "\n",
              "    .dataframe tbody tr th {\n",
              "        vertical-align: top;\n",
              "    }\n",
              "\n",
              "    .dataframe thead th {\n",
              "        text-align: right;\n",
              "    }\n",
              "</style>\n",
              "<table border=\"1\" class=\"dataframe\">\n",
              "  <thead>\n",
              "    <tr style=\"text-align: right;\">\n",
              "      <th></th>\n",
              "      <th>title</th>\n",
              "      <th>description</th>\n",
              "      <th>telecommuting</th>\n",
              "      <th>has_company_logo</th>\n",
              "      <th>has_questions</th>\n",
              "      <th>employment_type</th>\n",
              "      <th>required_experience</th>\n",
              "      <th>required_education</th>\n",
              "      <th>industry</th>\n",
              "      <th>function</th>\n",
              "      <th>fraudulent</th>\n",
              "      <th>city</th>\n",
              "      <th>country_name</th>\n",
              "    </tr>\n",
              "  </thead>\n",
              "  <tbody>\n",
              "    <tr>\n",
              "      <th>2</th>\n",
              "      <td>Piping Material Engineer</td>\n",
              "      <td>Corporate overviewAker Solutions is a global p...</td>\n",
              "      <td>0</td>\n",
              "      <td>1</td>\n",
              "      <td>0</td>\n",
              "      <td>Full-time</td>\n",
              "      <td>Mid-Senior level</td>\n",
              "      <td>Master's Degree</td>\n",
              "      <td>Oil &amp; Energy</td>\n",
              "      <td>Engineering</td>\n",
              "      <td>1</td>\n",
              "      <td>Houston</td>\n",
              "      <td>United States</td>\n",
              "    </tr>\n",
              "    <tr>\n",
              "      <th>3</th>\n",
              "      <td>Discipline Manager Civil, Structural, Marine...</td>\n",
              "      <td>Corporate overviewAker Solutions is a global p...</td>\n",
              "      <td>0</td>\n",
              "      <td>1</td>\n",
              "      <td>0</td>\n",
              "      <td>Full-time</td>\n",
              "      <td>Entry level</td>\n",
              "      <td>Professional</td>\n",
              "      <td>Oil &amp; Energy</td>\n",
              "      <td>Engineering</td>\n",
              "      <td>1</td>\n",
              "      <td>Houston</td>\n",
              "      <td>United States</td>\n",
              "    </tr>\n",
              "    <tr>\n",
              "      <th>4</th>\n",
              "      <td>FEA Senior engineer</td>\n",
              "      <td>Corporate overviewAker Solutions is a global p...</td>\n",
              "      <td>0</td>\n",
              "      <td>1</td>\n",
              "      <td>0</td>\n",
              "      <td>Full-time</td>\n",
              "      <td>Entry level</td>\n",
              "      <td>Master's Degree</td>\n",
              "      <td>Oil &amp; Energy</td>\n",
              "      <td>Engineering</td>\n",
              "      <td>1</td>\n",
              "      <td>Houston</td>\n",
              "      <td>United States</td>\n",
              "    </tr>\n",
              "    <tr>\n",
              "      <th>9</th>\n",
              "      <td>AUTOCAD OPERATOR</td>\n",
              "      <td>Responsibilities:Using a project database syst...</td>\n",
              "      <td>0</td>\n",
              "      <td>1</td>\n",
              "      <td>0</td>\n",
              "      <td>Full-time</td>\n",
              "      <td>Mid-Senior level</td>\n",
              "      <td>Bachelor's Degree</td>\n",
              "      <td>Staffing and Recruiting</td>\n",
              "      <td>Engineering</td>\n",
              "      <td>0</td>\n",
              "      <td>Cebu</td>\n",
              "      <td>Philippines</td>\n",
              "    </tr>\n",
              "    <tr>\n",
              "      <th>13</th>\n",
              "      <td>Accounting Clerk</td>\n",
              "      <td>Job DescriptionVerify, obtain approvals and pa...</td>\n",
              "      <td>0</td>\n",
              "      <td>1</td>\n",
              "      <td>1</td>\n",
              "      <td>Full-time</td>\n",
              "      <td>Associate</td>\n",
              "      <td>High School or equivalent</td>\n",
              "      <td>Accounting</td>\n",
              "      <td>Customer Service</td>\n",
              "      <td>1</td>\n",
              "      <td>AUSTIN</td>\n",
              "      <td>United States</td>\n",
              "    </tr>\n",
              "  </tbody>\n",
              "</table>\n",
              "</div>"
            ],
            "text/plain": [
              "                                                title  ...   country_name\n",
              "2                            Piping Material Engineer  ...  United States\n",
              "3     Discipline Manager Civil, Structural, Marine...  ...  United States\n",
              "4                                 FEA Senior engineer  ...  United States\n",
              "9                                    AUTOCAD OPERATOR  ...    Philippines\n",
              "13                                  Accounting Clerk   ...  United States\n",
              "\n",
              "[5 rows x 13 columns]"
            ]
          },
          "metadata": {
            "tags": []
          },
          "execution_count": 35
        }
      ]
    },
    {
      "cell_type": "code",
      "metadata": {
        "id": "Fe7eiZICxd--"
      },
      "source": [
        "df_final.to_csv('Preprocessed_data.csv')"
      ],
      "execution_count": 38,
      "outputs": []
    }
  ]
}