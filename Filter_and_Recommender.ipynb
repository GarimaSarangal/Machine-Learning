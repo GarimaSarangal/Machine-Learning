{
  "nbformat": 4,
  "nbformat_minor": 0,
  "metadata": {
    "kernelspec": {
      "display_name": "Python 3",
      "language": "python",
      "name": "python3"
    },
    "language_info": {
      "codemirror_mode": {
        "name": "ipython",
        "version": 3
      },
      "file_extension": ".py",
      "mimetype": "text/x-python",
      "name": "python",
      "nbconvert_exporter": "python",
      "pygments_lexer": "ipython3",
      "version": "3.7.6"
    },
    "colab": {
      "name": "Filter_and_Recommender.ipynb",
      "provenance": [],
      "collapsed_sections": [
        "WyHt-U17DV2Y",
        "OjYLHe4qDV5p",
        "dRVBQkrIDV6P",
        "FtjgwiR1DV-h",
        "RY5vnWk3DV-w",
        "0ehLKrW8DWAg"
      ],
      "toc_visible": true
    }
  },
  "cells": [
    {
      "cell_type": "code",
      "metadata": {
        "id": "nUI3sFh_DVtZ",
        "outputId": "fbe7aa06-b668-4850-cc51-b6763e697a58",
        "colab": {
          "base_uri": "https://localhost:8080/"
        }
      },
      "source": [
        "#imports\n",
        "import pandas as pd\n",
        "import seaborn as sns\n",
        "import matplotlib.pyplot as plt\n",
        "import numpy as np\n",
        "\n",
        "#NLP\n",
        "import nltk\n",
        "nltk.download('stopwords')\n",
        "from nltk.corpus import stopwords\n",
        "stopwords = stopwords.words('english')\n",
        "from nltk.stem import WordNetLemmatizer\n",
        "\n",
        "!python -m spacy download en_core_web_lg\n",
        "import spacy \n",
        "import en_core_web_lg\n",
        "nlp = en_core_web_lg.load()\n",
        "from spacy.lang.en import English\n",
        "parser = English()\n",
        "\n",
        "import base64\n",
        "import string\n",
        "punctuations = string.punctuation\n",
        "import re\n",
        "\n",
        "!pip install docx2txt\n",
        "import docx2txt\n",
        "\n",
        "#Pre-Processing libraries\n",
        "from sklearn.feature_extraction.text import CountVectorizer\n",
        "from sklearn.feature_extraction.stop_words import ENGLISH_STOP_WORDS\n",
        "from sklearn import preprocessing\n",
        "from sklearn.preprocessing import OneHotEncoder\n",
        "\n",
        "\n",
        "#Machine Learning Models\n",
        "from sklearn.model_selection import GridSearchCV\n",
        "from sklearn.linear_model import LogisticRegression\n",
        "from sklearn.neighbors import KNeighborsClassifier\n",
        "from sklearn.svm import SVC\n",
        "from sklearn.ensemble import RandomForestClassifier\n",
        "from sklearn.model_selection import train_test_split\n",
        "from sklearn.metrics import accuracy_score, confusion_matrix, classification_report, roc_auc_score\n",
        "from sklearn.metrics.pairwise import cosine_similarity\n"
      ],
      "execution_count": 1,
      "outputs": [
        {
          "output_type": "stream",
          "text": [
            "[nltk_data] Downloading package stopwords to /root/nltk_data...\n",
            "[nltk_data]   Unzipping corpora/stopwords.zip.\n",
            "Collecting en_core_web_lg==2.2.5\n",
            "\u001b[?25l  Downloading https://github.com/explosion/spacy-models/releases/download/en_core_web_lg-2.2.5/en_core_web_lg-2.2.5.tar.gz (827.9MB)\n",
            "\u001b[K     |████████████████████████████████| 827.9MB 1.5MB/s \n",
            "\u001b[?25hRequirement already satisfied: spacy>=2.2.2 in /usr/local/lib/python3.6/dist-packages (from en_core_web_lg==2.2.5) (2.2.4)\n",
            "Requirement already satisfied: wasabi<1.1.0,>=0.4.0 in /usr/local/lib/python3.6/dist-packages (from spacy>=2.2.2->en_core_web_lg==2.2.5) (0.8.0)\n",
            "Requirement already satisfied: catalogue<1.1.0,>=0.0.7 in /usr/local/lib/python3.6/dist-packages (from spacy>=2.2.2->en_core_web_lg==2.2.5) (1.0.0)\n",
            "Requirement already satisfied: cymem<2.1.0,>=2.0.2 in /usr/local/lib/python3.6/dist-packages (from spacy>=2.2.2->en_core_web_lg==2.2.5) (2.0.4)\n",
            "Requirement already satisfied: numpy>=1.15.0 in /usr/local/lib/python3.6/dist-packages (from spacy>=2.2.2->en_core_web_lg==2.2.5) (1.18.5)\n",
            "Requirement already satisfied: plac<1.2.0,>=0.9.6 in /usr/local/lib/python3.6/dist-packages (from spacy>=2.2.2->en_core_web_lg==2.2.5) (1.1.3)\n",
            "Requirement already satisfied: thinc==7.4.0 in /usr/local/lib/python3.6/dist-packages (from spacy>=2.2.2->en_core_web_lg==2.2.5) (7.4.0)\n",
            "Requirement already satisfied: requests<3.0.0,>=2.13.0 in /usr/local/lib/python3.6/dist-packages (from spacy>=2.2.2->en_core_web_lg==2.2.5) (2.23.0)\n",
            "Requirement already satisfied: tqdm<5.0.0,>=4.38.0 in /usr/local/lib/python3.6/dist-packages (from spacy>=2.2.2->en_core_web_lg==2.2.5) (4.41.1)\n",
            "Requirement already satisfied: preshed<3.1.0,>=3.0.2 in /usr/local/lib/python3.6/dist-packages (from spacy>=2.2.2->en_core_web_lg==2.2.5) (3.0.2)\n",
            "Requirement already satisfied: srsly<1.1.0,>=1.0.2 in /usr/local/lib/python3.6/dist-packages (from spacy>=2.2.2->en_core_web_lg==2.2.5) (1.0.2)\n",
            "Requirement already satisfied: blis<0.5.0,>=0.4.0 in /usr/local/lib/python3.6/dist-packages (from spacy>=2.2.2->en_core_web_lg==2.2.5) (0.4.1)\n",
            "Requirement already satisfied: setuptools in /usr/local/lib/python3.6/dist-packages (from spacy>=2.2.2->en_core_web_lg==2.2.5) (50.3.2)\n",
            "Requirement already satisfied: murmurhash<1.1.0,>=0.28.0 in /usr/local/lib/python3.6/dist-packages (from spacy>=2.2.2->en_core_web_lg==2.2.5) (1.0.3)\n",
            "Requirement already satisfied: importlib-metadata>=0.20; python_version < \"3.8\" in /usr/local/lib/python3.6/dist-packages (from catalogue<1.1.0,>=0.0.7->spacy>=2.2.2->en_core_web_lg==2.2.5) (2.0.0)\n",
            "Requirement already satisfied: certifi>=2017.4.17 in /usr/local/lib/python3.6/dist-packages (from requests<3.0.0,>=2.13.0->spacy>=2.2.2->en_core_web_lg==2.2.5) (2020.6.20)\n",
            "Requirement already satisfied: urllib3!=1.25.0,!=1.25.1,<1.26,>=1.21.1 in /usr/local/lib/python3.6/dist-packages (from requests<3.0.0,>=2.13.0->spacy>=2.2.2->en_core_web_lg==2.2.5) (1.24.3)\n",
            "Requirement already satisfied: idna<3,>=2.5 in /usr/local/lib/python3.6/dist-packages (from requests<3.0.0,>=2.13.0->spacy>=2.2.2->en_core_web_lg==2.2.5) (2.10)\n",
            "Requirement already satisfied: chardet<4,>=3.0.2 in /usr/local/lib/python3.6/dist-packages (from requests<3.0.0,>=2.13.0->spacy>=2.2.2->en_core_web_lg==2.2.5) (3.0.4)\n",
            "Requirement already satisfied: zipp>=0.5 in /usr/local/lib/python3.6/dist-packages (from importlib-metadata>=0.20; python_version < \"3.8\"->catalogue<1.1.0,>=0.0.7->spacy>=2.2.2->en_core_web_lg==2.2.5) (3.4.0)\n",
            "Building wheels for collected packages: en-core-web-lg\n",
            "  Building wheel for en-core-web-lg (setup.py) ... \u001b[?25l\u001b[?25hdone\n",
            "  Created wheel for en-core-web-lg: filename=en_core_web_lg-2.2.5-cp36-none-any.whl size=829180944 sha256=13eb7e096b03d3fc7213a4476da4e0bfc05c10042674d10f72ba4ec2ec9719e9\n",
            "  Stored in directory: /tmp/pip-ephem-wheel-cache-1s04d22f/wheels/2a/c1/a6/fc7a877b1efca9bc6a089d6f506f16d3868408f9ff89f8dbfc\n",
            "Successfully built en-core-web-lg\n",
            "Installing collected packages: en-core-web-lg\n",
            "Successfully installed en-core-web-lg-2.2.5\n",
            "\u001b[38;5;2m✔ Download and installation successful\u001b[0m\n",
            "You can now load the model via spacy.load('en_core_web_lg')\n",
            "Collecting docx2txt\n",
            "  Downloading https://files.pythonhosted.org/packages/7d/7d/60ee3f2b16d9bfdfa72e8599470a2c1a5b759cb113c6fe1006be28359327/docx2txt-0.8.tar.gz\n",
            "Building wheels for collected packages: docx2txt\n",
            "  Building wheel for docx2txt (setup.py) ... \u001b[?25l\u001b[?25hdone\n",
            "  Created wheel for docx2txt: filename=docx2txt-0.8-cp36-none-any.whl size=3965 sha256=139aab9ccbc18643faccb16ad0055da91eb2ec97537b9838f1068fbe77ac072c\n",
            "  Stored in directory: /root/.cache/pip/wheels/b2/1f/26/a051209bbb77fc6bcfae2bb7e01fa0ff941b82292ab084d596\n",
            "Successfully built docx2txt\n",
            "Installing collected packages: docx2txt\n",
            "Successfully installed docx2txt-0.8\n"
          ],
          "name": "stdout"
        },
        {
          "output_type": "stream",
          "text": [
            "/usr/local/lib/python3.6/dist-packages/sklearn/utils/deprecation.py:144: FutureWarning: The sklearn.feature_extraction.stop_words module is  deprecated in version 0.22 and will be removed in version 0.24. The corresponding classes / functions should instead be imported from sklearn.feature_extraction.text. Anything that cannot be imported from sklearn.feature_extraction.text is now part of the private API.\n",
            "  warnings.warn(message, FutureWarning)\n"
          ],
          "name": "stderr"
        }
      ]
    },
    {
      "cell_type": "code",
      "metadata": {
        "id": "nmFu1nLRDVuR"
      },
      "source": [
        "#reading data\n",
        "df = pd.read_csv('/content/Preprocessed_data.csv')"
      ],
      "execution_count": 2,
      "outputs": []
    },
    {
      "cell_type": "code",
      "metadata": {
        "id": "w3FD2eKtDVuW",
        "outputId": "23b41bf5-bdc6-4e61-d144-687166a187fa",
        "colab": {
          "base_uri": "https://localhost:8080/",
          "height": 479
        }
      },
      "source": [
        "#visualizing data\n",
        "df.head()"
      ],
      "execution_count": 3,
      "outputs": [
        {
          "output_type": "execute_result",
          "data": {
            "text/html": [
              "<div>\n",
              "<style scoped>\n",
              "    .dataframe tbody tr th:only-of-type {\n",
              "        vertical-align: middle;\n",
              "    }\n",
              "\n",
              "    .dataframe tbody tr th {\n",
              "        vertical-align: top;\n",
              "    }\n",
              "\n",
              "    .dataframe thead th {\n",
              "        text-align: right;\n",
              "    }\n",
              "</style>\n",
              "<table border=\"1\" class=\"dataframe\">\n",
              "  <thead>\n",
              "    <tr style=\"text-align: right;\">\n",
              "      <th></th>\n",
              "      <th>Unnamed: 0</th>\n",
              "      <th>title</th>\n",
              "      <th>description</th>\n",
              "      <th>telecommuting</th>\n",
              "      <th>has_company_logo</th>\n",
              "      <th>has_questions</th>\n",
              "      <th>employment_type</th>\n",
              "      <th>required_experience</th>\n",
              "      <th>required_education</th>\n",
              "      <th>industry</th>\n",
              "      <th>function</th>\n",
              "      <th>fraudulent</th>\n",
              "      <th>city</th>\n",
              "      <th>country_name</th>\n",
              "    </tr>\n",
              "  </thead>\n",
              "  <tbody>\n",
              "    <tr>\n",
              "      <th>0</th>\n",
              "      <td>2</td>\n",
              "      <td>Piping Material Engineer</td>\n",
              "      <td>Corporate overviewAker Solutions is a global p...</td>\n",
              "      <td>0</td>\n",
              "      <td>1</td>\n",
              "      <td>0</td>\n",
              "      <td>Full-time</td>\n",
              "      <td>Mid-Senior level</td>\n",
              "      <td>Master's Degree</td>\n",
              "      <td>Oil &amp; Energy</td>\n",
              "      <td>Engineering</td>\n",
              "      <td>1</td>\n",
              "      <td>Houston</td>\n",
              "      <td>United States</td>\n",
              "    </tr>\n",
              "    <tr>\n",
              "      <th>1</th>\n",
              "      <td>3</td>\n",
              "      <td>Discipline Manager Civil, Structural, Marine...</td>\n",
              "      <td>Corporate overviewAker Solutions is a global p...</td>\n",
              "      <td>0</td>\n",
              "      <td>1</td>\n",
              "      <td>0</td>\n",
              "      <td>Full-time</td>\n",
              "      <td>Entry level</td>\n",
              "      <td>Professional</td>\n",
              "      <td>Oil &amp; Energy</td>\n",
              "      <td>Engineering</td>\n",
              "      <td>1</td>\n",
              "      <td>Houston</td>\n",
              "      <td>United States</td>\n",
              "    </tr>\n",
              "    <tr>\n",
              "      <th>2</th>\n",
              "      <td>4</td>\n",
              "      <td>FEA Senior engineer</td>\n",
              "      <td>Corporate overviewAker Solutions is a global p...</td>\n",
              "      <td>0</td>\n",
              "      <td>1</td>\n",
              "      <td>0</td>\n",
              "      <td>Full-time</td>\n",
              "      <td>Entry level</td>\n",
              "      <td>Master's Degree</td>\n",
              "      <td>Oil &amp; Energy</td>\n",
              "      <td>Engineering</td>\n",
              "      <td>1</td>\n",
              "      <td>Houston</td>\n",
              "      <td>United States</td>\n",
              "    </tr>\n",
              "    <tr>\n",
              "      <th>3</th>\n",
              "      <td>9</td>\n",
              "      <td>AUTOCAD OPERATOR</td>\n",
              "      <td>Responsibilities:Using a project database syst...</td>\n",
              "      <td>0</td>\n",
              "      <td>1</td>\n",
              "      <td>0</td>\n",
              "      <td>Full-time</td>\n",
              "      <td>Mid-Senior level</td>\n",
              "      <td>Bachelor's Degree</td>\n",
              "      <td>Staffing and Recruiting</td>\n",
              "      <td>Engineering</td>\n",
              "      <td>0</td>\n",
              "      <td>Cebu</td>\n",
              "      <td>Philippines</td>\n",
              "    </tr>\n",
              "    <tr>\n",
              "      <th>4</th>\n",
              "      <td>13</td>\n",
              "      <td>Accounting Clerk</td>\n",
              "      <td>Job DescriptionVerify, obtain approvals and pa...</td>\n",
              "      <td>0</td>\n",
              "      <td>1</td>\n",
              "      <td>1</td>\n",
              "      <td>Full-time</td>\n",
              "      <td>Associate</td>\n",
              "      <td>High School or equivalent</td>\n",
              "      <td>Accounting</td>\n",
              "      <td>Customer Service</td>\n",
              "      <td>1</td>\n",
              "      <td>AUSTIN</td>\n",
              "      <td>United States</td>\n",
              "    </tr>\n",
              "  </tbody>\n",
              "</table>\n",
              "</div>"
            ],
            "text/plain": [
              "   Unnamed: 0  ...   country_name\n",
              "0           2  ...  United States\n",
              "1           3  ...  United States\n",
              "2           4  ...  United States\n",
              "3           9  ...    Philippines\n",
              "4          13  ...  United States\n",
              "\n",
              "[5 rows x 14 columns]"
            ]
          },
          "metadata": {
            "tags": []
          },
          "execution_count": 3
        }
      ]
    },
    {
      "cell_type": "code",
      "metadata": {
        "id": "GGod5Du2DVvR"
      },
      "source": [
        "# Removing irrelevant column\n",
        "del df['Unnamed: 0']"
      ],
      "execution_count": 4,
      "outputs": []
    },
    {
      "cell_type": "code",
      "metadata": {
        "id": "6CTtc8S0DVvV",
        "outputId": "5f5faf24-5607-4a97-8c34-b09e5ddfc912",
        "colab": {
          "base_uri": "https://localhost:8080/"
        }
      },
      "source": [
        "#checking for null values\n",
        "df.isnull().sum()"
      ],
      "execution_count": 5,
      "outputs": [
        {
          "output_type": "execute_result",
          "data": {
            "text/plain": [
              "title                  0\n",
              "description            0\n",
              "telecommuting          0\n",
              "has_company_logo       0\n",
              "has_questions          0\n",
              "employment_type        0\n",
              "required_experience    0\n",
              "required_education     0\n",
              "industry               0\n",
              "function               0\n",
              "fraudulent             0\n",
              "city                   0\n",
              "country_name           0\n",
              "dtype: int64"
            ]
          },
          "metadata": {
            "tags": []
          },
          "execution_count": 5
        }
      ]
    },
    {
      "cell_type": "code",
      "metadata": {
        "id": "5Xzj52ZuDVwI"
      },
      "source": [
        "df1 = df.copy()"
      ],
      "execution_count": 6,
      "outputs": []
    },
    {
      "cell_type": "markdown",
      "metadata": {
        "id": "5KtctrMLDVyH"
      },
      "source": [
        "## Final Data Clean"
      ]
    },
    {
      "cell_type": "code",
      "metadata": {
        "id": "mhfXBKUpDVyQ"
      },
      "source": [
        "STOPLIST = set(stopwords + list(ENGLISH_STOP_WORDS))\n",
        "SYMBOLS = \" \".join(string.punctuation).split(\" \")"
      ],
      "execution_count": 7,
      "outputs": []
    },
    {
      "cell_type": "code",
      "metadata": {
        "id": "q4yRJBGxDV03"
      },
      "source": [
        "def tokenizetext(sample):\n",
        "    text = sample.strip().replace(\"\\n\", \" \").replace(\"\\r\", \" \")\n",
        "    text = text.lower()\n",
        "    tokens = parser(text)\n",
        "    lemmas = []\n",
        "    for tok in tokens:\n",
        "        lemmas.append(tok.lemma_.lower().strip() if tok.lemma_ != \"-PRON-\" else tok.lower_)\n",
        "    tokens = lemmas\n",
        "    tokens = [tok for tok in tokens if tok not in STOPLIST]\n",
        "    tokens = [tok for tok in tokens if tok not in SYMBOLS]\n",
        "    return tokens"
      ],
      "execution_count": 8,
      "outputs": []
    },
    {
      "cell_type": "code",
      "metadata": {
        "id": "5Dn6EK_fDV07"
      },
      "source": [
        "vectorizer = CountVectorizer(tokenizer = tokenizetext, ngram_range = (1,3), min_df = 0.06)"
      ],
      "execution_count": 9,
      "outputs": []
    },
    {
      "cell_type": "code",
      "metadata": {
        "id": "auhs9tsyDV1e"
      },
      "source": [
        "vectorizer_features = vectorizer.fit_transform(df1['description'])"
      ],
      "execution_count": 10,
      "outputs": []
    },
    {
      "cell_type": "code",
      "metadata": {
        "id": "dJ2m5zzcDV1h",
        "outputId": "54183d3e-0574-49c9-ce26-f5e67c7eac9e",
        "colab": {
          "base_uri": "https://localhost:8080/"
        }
      },
      "source": [
        "vectorizer_features.shape"
      ],
      "execution_count": 11,
      "outputs": [
        {
          "output_type": "execute_result",
          "data": {
            "text/plain": [
              "(11272, 666)"
            ]
          },
          "metadata": {
            "tags": []
          },
          "execution_count": 11
        }
      ]
    },
    {
      "cell_type": "code",
      "metadata": {
        "id": "lC7SJZS7DV1q",
        "outputId": "2c23e1e4-879a-4712-8056-ecbc16badacd",
        "colab": {
          "base_uri": "https://localhost:8080/"
        }
      },
      "source": [
        "vectorizer_features"
      ],
      "execution_count": 12,
      "outputs": [
        {
          "output_type": "execute_result",
          "data": {
            "text/plain": [
              "<11272x666 sparse matrix of type '<class 'numpy.int64'>'\n",
              "\twith 991737 stored elements in Compressed Sparse Row format>"
            ]
          },
          "metadata": {
            "tags": []
          },
          "execution_count": 12
        }
      ]
    },
    {
      "cell_type": "code",
      "metadata": {
        "id": "8xJUYNU7DV15"
      },
      "source": [
        "vectorized_df = pd.DataFrame(vectorizer_features.todense(), columns = vectorizer.get_feature_names())\n",
        "df_vectorized = pd.concat([df1, vectorized_df], axis = 1)"
      ],
      "execution_count": 13,
      "outputs": []
    },
    {
      "cell_type": "code",
      "metadata": {
        "id": "pMPg6CwADV19"
      },
      "source": [
        "df_vectorized.drop('description', axis = 1, inplace = True)\n",
        "df_vectorized.dropna(inplace=True)"
      ],
      "execution_count": 14,
      "outputs": []
    },
    {
      "cell_type": "code",
      "metadata": {
        "id": "39xQy-ekDV2B",
        "outputId": "5bde69c5-4374-4e26-e725-8edb2b190955",
        "colab": {
          "base_uri": "https://localhost:8080/",
          "height": 457
        }
      },
      "source": [
        "df_vectorized.head()"
      ],
      "execution_count": 15,
      "outputs": [
        {
          "output_type": "execute_result",
          "data": {
            "text/html": [
              "<div>\n",
              "<style scoped>\n",
              "    .dataframe tbody tr th:only-of-type {\n",
              "        vertical-align: middle;\n",
              "    }\n",
              "\n",
              "    .dataframe tbody tr th {\n",
              "        vertical-align: top;\n",
              "    }\n",
              "\n",
              "    .dataframe thead th {\n",
              "        text-align: right;\n",
              "    }\n",
              "</style>\n",
              "<table border=\"1\" class=\"dataframe\">\n",
              "  <thead>\n",
              "    <tr style=\"text-align: right;\">\n",
              "      <th></th>\n",
              "      <th>title</th>\n",
              "      <th>telecommuting</th>\n",
              "      <th>has_company_logo</th>\n",
              "      <th>has_questions</th>\n",
              "      <th>employment_type</th>\n",
              "      <th>required_experience</th>\n",
              "      <th>required_education</th>\n",
              "      <th>industry</th>\n",
              "      <th>function</th>\n",
              "      <th>fraudulent</th>\n",
              "      <th>city</th>\n",
              "      <th>country_name</th>\n",
              "      <th></th>\n",
              "      <th>experience</th>\n",
              "      <th>looking</th>\n",
              "      <th>tefl</th>\n",
              "      <th>tefl tesol</th>\n",
              "      <th>'s</th>\n",
              "      <th>1</th>\n",
              "      <th>10</th>\n",
              "      <th>100</th>\n",
              "      <th>2</th>\n",
              "      <th>2 years</th>\n",
              "      <th>200</th>\n",
              "      <th>200 cost</th>\n",
              "      <th>3</th>\n",
              "      <th>3 years</th>\n",
              "      <th>30</th>\n",
              "      <th>4</th>\n",
              "      <th>5</th>\n",
              "      <th>5 years</th>\n",
              "      <th>6</th>\n",
              "      <th>:)</th>\n",
              "      <th>ability</th>\n",
              "      <th>ability work</th>\n",
              "      <th>able</th>\n",
              "      <th>abroad</th>\n",
              "      <th>abroad :)</th>\n",
              "      <th>access</th>\n",
              "      <th>account</th>\n",
              "      <th>...</th>\n",
              "      <th>usd monthly 200</th>\n",
              "      <th>use</th>\n",
              "      <th>used</th>\n",
              "      <th>user</th>\n",
              "      <th>users</th>\n",
              "      <th>using</th>\n",
              "      <th>value</th>\n",
              "      <th>values</th>\n",
              "      <th>variety</th>\n",
              "      <th>various</th>\n",
              "      <th>verbal</th>\n",
              "      <th>verbal written</th>\n",
              "      <th>vision</th>\n",
              "      <th>volume</th>\n",
              "      <th>want</th>\n",
              "      <th>way</th>\n",
              "      <th>web</th>\n",
              "      <th>website</th>\n",
              "      <th>week</th>\n",
              "      <th>wide</th>\n",
              "      <th>willing</th>\n",
              "      <th>windows</th>\n",
              "      <th>word</th>\n",
              "      <th>work</th>\n",
              "      <th>work closely</th>\n",
              "      <th>working</th>\n",
              "      <th>world</th>\n",
              "      <th>writing</th>\n",
              "      <th>written</th>\n",
              "      <th>written communication</th>\n",
              "      <th>written verbal</th>\n",
              "      <th>year</th>\n",
              "      <th>years</th>\n",
              "      <th>years experience</th>\n",
              "      <th>york</th>\n",
              "      <th>–</th>\n",
              "      <th>’</th>\n",
              "      <th>’s</th>\n",
              "      <th>“</th>\n",
              "      <th>”</th>\n",
              "    </tr>\n",
              "  </thead>\n",
              "  <tbody>\n",
              "    <tr>\n",
              "      <th>0</th>\n",
              "      <td>Piping Material Engineer</td>\n",
              "      <td>0</td>\n",
              "      <td>1</td>\n",
              "      <td>0</td>\n",
              "      <td>Full-time</td>\n",
              "      <td>Mid-Senior level</td>\n",
              "      <td>Master's Degree</td>\n",
              "      <td>Oil &amp; Energy</td>\n",
              "      <td>Engineering</td>\n",
              "      <td>1</td>\n",
              "      <td>Houston</td>\n",
              "      <td>United States</td>\n",
              "      <td>0</td>\n",
              "      <td>0</td>\n",
              "      <td>0</td>\n",
              "      <td>0</td>\n",
              "      <td>0</td>\n",
              "      <td>0</td>\n",
              "      <td>0</td>\n",
              "      <td>0</td>\n",
              "      <td>0</td>\n",
              "      <td>0</td>\n",
              "      <td>0</td>\n",
              "      <td>0</td>\n",
              "      <td>0</td>\n",
              "      <td>0</td>\n",
              "      <td>0</td>\n",
              "      <td>2</td>\n",
              "      <td>1</td>\n",
              "      <td>0</td>\n",
              "      <td>0</td>\n",
              "      <td>0</td>\n",
              "      <td>0</td>\n",
              "      <td>0</td>\n",
              "      <td>0</td>\n",
              "      <td>1</td>\n",
              "      <td>0</td>\n",
              "      <td>0</td>\n",
              "      <td>0</td>\n",
              "      <td>0</td>\n",
              "      <td>...</td>\n",
              "      <td>0</td>\n",
              "      <td>0</td>\n",
              "      <td>0</td>\n",
              "      <td>0</td>\n",
              "      <td>0</td>\n",
              "      <td>0</td>\n",
              "      <td>0</td>\n",
              "      <td>1</td>\n",
              "      <td>0</td>\n",
              "      <td>0</td>\n",
              "      <td>0</td>\n",
              "      <td>0</td>\n",
              "      <td>0</td>\n",
              "      <td>0</td>\n",
              "      <td>0</td>\n",
              "      <td>0</td>\n",
              "      <td>0</td>\n",
              "      <td>0</td>\n",
              "      <td>0</td>\n",
              "      <td>0</td>\n",
              "      <td>0</td>\n",
              "      <td>0</td>\n",
              "      <td>0</td>\n",
              "      <td>2</td>\n",
              "      <td>0</td>\n",
              "      <td>0</td>\n",
              "      <td>0</td>\n",
              "      <td>0</td>\n",
              "      <td>1</td>\n",
              "      <td>0</td>\n",
              "      <td>0</td>\n",
              "      <td>0</td>\n",
              "      <td>1</td>\n",
              "      <td>0</td>\n",
              "      <td>0</td>\n",
              "      <td>0</td>\n",
              "      <td>1</td>\n",
              "      <td>0</td>\n",
              "      <td>0</td>\n",
              "      <td>0</td>\n",
              "    </tr>\n",
              "    <tr>\n",
              "      <th>1</th>\n",
              "      <td>Discipline Manager Civil, Structural, Marine...</td>\n",
              "      <td>0</td>\n",
              "      <td>1</td>\n",
              "      <td>0</td>\n",
              "      <td>Full-time</td>\n",
              "      <td>Entry level</td>\n",
              "      <td>Professional</td>\n",
              "      <td>Oil &amp; Energy</td>\n",
              "      <td>Engineering</td>\n",
              "      <td>1</td>\n",
              "      <td>Houston</td>\n",
              "      <td>United States</td>\n",
              "      <td>1</td>\n",
              "      <td>0</td>\n",
              "      <td>0</td>\n",
              "      <td>0</td>\n",
              "      <td>0</td>\n",
              "      <td>0</td>\n",
              "      <td>0</td>\n",
              "      <td>0</td>\n",
              "      <td>0</td>\n",
              "      <td>0</td>\n",
              "      <td>0</td>\n",
              "      <td>0</td>\n",
              "      <td>0</td>\n",
              "      <td>0</td>\n",
              "      <td>0</td>\n",
              "      <td>2</td>\n",
              "      <td>0</td>\n",
              "      <td>0</td>\n",
              "      <td>0</td>\n",
              "      <td>0</td>\n",
              "      <td>0</td>\n",
              "      <td>0</td>\n",
              "      <td>0</td>\n",
              "      <td>0</td>\n",
              "      <td>0</td>\n",
              "      <td>0</td>\n",
              "      <td>0</td>\n",
              "      <td>0</td>\n",
              "      <td>...</td>\n",
              "      <td>0</td>\n",
              "      <td>0</td>\n",
              "      <td>1</td>\n",
              "      <td>0</td>\n",
              "      <td>0</td>\n",
              "      <td>0</td>\n",
              "      <td>0</td>\n",
              "      <td>1</td>\n",
              "      <td>0</td>\n",
              "      <td>0</td>\n",
              "      <td>0</td>\n",
              "      <td>0</td>\n",
              "      <td>0</td>\n",
              "      <td>0</td>\n",
              "      <td>0</td>\n",
              "      <td>0</td>\n",
              "      <td>0</td>\n",
              "      <td>0</td>\n",
              "      <td>0</td>\n",
              "      <td>0</td>\n",
              "      <td>0</td>\n",
              "      <td>0</td>\n",
              "      <td>0</td>\n",
              "      <td>0</td>\n",
              "      <td>0</td>\n",
              "      <td>1</td>\n",
              "      <td>0</td>\n",
              "      <td>0</td>\n",
              "      <td>0</td>\n",
              "      <td>0</td>\n",
              "      <td>0</td>\n",
              "      <td>0</td>\n",
              "      <td>1</td>\n",
              "      <td>0</td>\n",
              "      <td>0</td>\n",
              "      <td>0</td>\n",
              "      <td>0</td>\n",
              "      <td>0</td>\n",
              "      <td>0</td>\n",
              "      <td>0</td>\n",
              "    </tr>\n",
              "    <tr>\n",
              "      <th>2</th>\n",
              "      <td>FEA Senior engineer</td>\n",
              "      <td>0</td>\n",
              "      <td>1</td>\n",
              "      <td>0</td>\n",
              "      <td>Full-time</td>\n",
              "      <td>Entry level</td>\n",
              "      <td>Master's Degree</td>\n",
              "      <td>Oil &amp; Energy</td>\n",
              "      <td>Engineering</td>\n",
              "      <td>1</td>\n",
              "      <td>Houston</td>\n",
              "      <td>United States</td>\n",
              "      <td>0</td>\n",
              "      <td>0</td>\n",
              "      <td>0</td>\n",
              "      <td>0</td>\n",
              "      <td>0</td>\n",
              "      <td>0</td>\n",
              "      <td>0</td>\n",
              "      <td>0</td>\n",
              "      <td>0</td>\n",
              "      <td>0</td>\n",
              "      <td>0</td>\n",
              "      <td>0</td>\n",
              "      <td>0</td>\n",
              "      <td>1</td>\n",
              "      <td>1</td>\n",
              "      <td>2</td>\n",
              "      <td>0</td>\n",
              "      <td>0</td>\n",
              "      <td>0</td>\n",
              "      <td>0</td>\n",
              "      <td>0</td>\n",
              "      <td>0</td>\n",
              "      <td>0</td>\n",
              "      <td>0</td>\n",
              "      <td>0</td>\n",
              "      <td>0</td>\n",
              "      <td>0</td>\n",
              "      <td>0</td>\n",
              "      <td>...</td>\n",
              "      <td>0</td>\n",
              "      <td>0</td>\n",
              "      <td>0</td>\n",
              "      <td>0</td>\n",
              "      <td>0</td>\n",
              "      <td>0</td>\n",
              "      <td>0</td>\n",
              "      <td>1</td>\n",
              "      <td>0</td>\n",
              "      <td>0</td>\n",
              "      <td>0</td>\n",
              "      <td>0</td>\n",
              "      <td>0</td>\n",
              "      <td>0</td>\n",
              "      <td>0</td>\n",
              "      <td>0</td>\n",
              "      <td>0</td>\n",
              "      <td>0</td>\n",
              "      <td>0</td>\n",
              "      <td>0</td>\n",
              "      <td>0</td>\n",
              "      <td>0</td>\n",
              "      <td>0</td>\n",
              "      <td>1</td>\n",
              "      <td>0</td>\n",
              "      <td>0</td>\n",
              "      <td>0</td>\n",
              "      <td>1</td>\n",
              "      <td>0</td>\n",
              "      <td>0</td>\n",
              "      <td>0</td>\n",
              "      <td>0</td>\n",
              "      <td>1</td>\n",
              "      <td>0</td>\n",
              "      <td>0</td>\n",
              "      <td>0</td>\n",
              "      <td>0</td>\n",
              "      <td>0</td>\n",
              "      <td>0</td>\n",
              "      <td>0</td>\n",
              "    </tr>\n",
              "    <tr>\n",
              "      <th>3</th>\n",
              "      <td>AUTOCAD OPERATOR</td>\n",
              "      <td>0</td>\n",
              "      <td>1</td>\n",
              "      <td>0</td>\n",
              "      <td>Full-time</td>\n",
              "      <td>Mid-Senior level</td>\n",
              "      <td>Bachelor's Degree</td>\n",
              "      <td>Staffing and Recruiting</td>\n",
              "      <td>Engineering</td>\n",
              "      <td>0</td>\n",
              "      <td>Cebu</td>\n",
              "      <td>Philippines</td>\n",
              "      <td>0</td>\n",
              "      <td>0</td>\n",
              "      <td>0</td>\n",
              "      <td>0</td>\n",
              "      <td>0</td>\n",
              "      <td>0</td>\n",
              "      <td>0</td>\n",
              "      <td>0</td>\n",
              "      <td>0</td>\n",
              "      <td>0</td>\n",
              "      <td>0</td>\n",
              "      <td>0</td>\n",
              "      <td>0</td>\n",
              "      <td>1</td>\n",
              "      <td>1</td>\n",
              "      <td>0</td>\n",
              "      <td>0</td>\n",
              "      <td>0</td>\n",
              "      <td>0</td>\n",
              "      <td>0</td>\n",
              "      <td>0</td>\n",
              "      <td>0</td>\n",
              "      <td>0</td>\n",
              "      <td>0</td>\n",
              "      <td>0</td>\n",
              "      <td>0</td>\n",
              "      <td>0</td>\n",
              "      <td>0</td>\n",
              "      <td>...</td>\n",
              "      <td>0</td>\n",
              "      <td>0</td>\n",
              "      <td>0</td>\n",
              "      <td>0</td>\n",
              "      <td>0</td>\n",
              "      <td>1</td>\n",
              "      <td>0</td>\n",
              "      <td>0</td>\n",
              "      <td>1</td>\n",
              "      <td>1</td>\n",
              "      <td>0</td>\n",
              "      <td>0</td>\n",
              "      <td>0</td>\n",
              "      <td>0</td>\n",
              "      <td>0</td>\n",
              "      <td>1</td>\n",
              "      <td>0</td>\n",
              "      <td>0</td>\n",
              "      <td>0</td>\n",
              "      <td>0</td>\n",
              "      <td>0</td>\n",
              "      <td>0</td>\n",
              "      <td>0</td>\n",
              "      <td>0</td>\n",
              "      <td>0</td>\n",
              "      <td>0</td>\n",
              "      <td>0</td>\n",
              "      <td>0</td>\n",
              "      <td>0</td>\n",
              "      <td>0</td>\n",
              "      <td>0</td>\n",
              "      <td>0</td>\n",
              "      <td>1</td>\n",
              "      <td>0</td>\n",
              "      <td>0</td>\n",
              "      <td>0</td>\n",
              "      <td>2</td>\n",
              "      <td>1</td>\n",
              "      <td>0</td>\n",
              "      <td>0</td>\n",
              "    </tr>\n",
              "    <tr>\n",
              "      <th>4</th>\n",
              "      <td>Accounting Clerk</td>\n",
              "      <td>0</td>\n",
              "      <td>1</td>\n",
              "      <td>1</td>\n",
              "      <td>Full-time</td>\n",
              "      <td>Associate</td>\n",
              "      <td>High School or equivalent</td>\n",
              "      <td>Accounting</td>\n",
              "      <td>Customer Service</td>\n",
              "      <td>1</td>\n",
              "      <td>AUSTIN</td>\n",
              "      <td>United States</td>\n",
              "      <td>0</td>\n",
              "      <td>0</td>\n",
              "      <td>0</td>\n",
              "      <td>0</td>\n",
              "      <td>0</td>\n",
              "      <td>0</td>\n",
              "      <td>0</td>\n",
              "      <td>0</td>\n",
              "      <td>0</td>\n",
              "      <td>0</td>\n",
              "      <td>0</td>\n",
              "      <td>0</td>\n",
              "      <td>0</td>\n",
              "      <td>0</td>\n",
              "      <td>0</td>\n",
              "      <td>0</td>\n",
              "      <td>0</td>\n",
              "      <td>0</td>\n",
              "      <td>0</td>\n",
              "      <td>0</td>\n",
              "      <td>0</td>\n",
              "      <td>0</td>\n",
              "      <td>0</td>\n",
              "      <td>0</td>\n",
              "      <td>0</td>\n",
              "      <td>0</td>\n",
              "      <td>0</td>\n",
              "      <td>0</td>\n",
              "      <td>...</td>\n",
              "      <td>0</td>\n",
              "      <td>0</td>\n",
              "      <td>0</td>\n",
              "      <td>0</td>\n",
              "      <td>0</td>\n",
              "      <td>1</td>\n",
              "      <td>2</td>\n",
              "      <td>0</td>\n",
              "      <td>0</td>\n",
              "      <td>0</td>\n",
              "      <td>0</td>\n",
              "      <td>0</td>\n",
              "      <td>0</td>\n",
              "      <td>1</td>\n",
              "      <td>0</td>\n",
              "      <td>0</td>\n",
              "      <td>0</td>\n",
              "      <td>0</td>\n",
              "      <td>0</td>\n",
              "      <td>0</td>\n",
              "      <td>0</td>\n",
              "      <td>0</td>\n",
              "      <td>0</td>\n",
              "      <td>2</td>\n",
              "      <td>0</td>\n",
              "      <td>0</td>\n",
              "      <td>0</td>\n",
              "      <td>0</td>\n",
              "      <td>0</td>\n",
              "      <td>0</td>\n",
              "      <td>0</td>\n",
              "      <td>0</td>\n",
              "      <td>0</td>\n",
              "      <td>0</td>\n",
              "      <td>0</td>\n",
              "      <td>2</td>\n",
              "      <td>0</td>\n",
              "      <td>2</td>\n",
              "      <td>0</td>\n",
              "      <td>0</td>\n",
              "    </tr>\n",
              "  </tbody>\n",
              "</table>\n",
              "<p>5 rows × 678 columns</p>\n",
              "</div>"
            ],
            "text/plain": [
              "                                               title  telecommuting  ...  “  ”\n",
              "0                           Piping Material Engineer              0  ...  0  0\n",
              "1    Discipline Manager Civil, Structural, Marine...              0  ...  0  0\n",
              "2                                FEA Senior engineer              0  ...  0  0\n",
              "3                                   AUTOCAD OPERATOR              0  ...  0  0\n",
              "4                                  Accounting Clerk               0  ...  0  0\n",
              "\n",
              "[5 rows x 678 columns]"
            ]
          },
          "metadata": {
            "tags": []
          },
          "execution_count": 15
        }
      ]
    },
    {
      "cell_type": "code",
      "metadata": {
        "id": "gNAG7I5dDV2I"
      },
      "source": [
        "columns_to_1_hot = ['employment_type', 'required_experience', 'required_education', 'industry', 'function']\n",
        "\n",
        "for column in columns_to_1_hot:\n",
        "    encoded = pd.get_dummies(df_vectorized[column])\n",
        "    df_vectorized = pd.concat([df_vectorized, encoded], axis = 1)"
      ],
      "execution_count": 16,
      "outputs": []
    },
    {
      "cell_type": "code",
      "metadata": {
        "id": "Xm7B_BJxDV2L"
      },
      "source": [
        "columns_to_1_hot += ['title', 'city', 'country_name']\n",
        "df_vectorized.drop(columns_to_1_hot, axis = 1, inplace = True)"
      ],
      "execution_count": 17,
      "outputs": []
    },
    {
      "cell_type": "code",
      "metadata": {
        "id": "zGyAmNwPDV2O"
      },
      "source": [
        "target = df_vectorized['fraudulent']\n",
        "features = df_vectorized.drop('fraudulent', axis = 1)\n",
        "\n",
        "X_train, X_test, y_train, y_test = train_test_split(features, target, test_size = 0.1, stratify = target, random_state=42)"
      ],
      "execution_count": 18,
      "outputs": []
    },
    {
      "cell_type": "code",
      "metadata": {
        "id": "h_6GSBK0IYG6",
        "outputId": "c069acee-3429-4ecd-96c7-5602ceec6332",
        "colab": {
          "base_uri": "https://localhost:8080/"
        }
      },
      "source": [
        "print(X_train.shape)\n",
        "print(X_test.shape)"
      ],
      "execution_count": 19,
      "outputs": [
        {
          "output_type": "stream",
          "text": [
            "(10144, 857)\n",
            "(1128, 857)\n"
          ],
          "name": "stdout"
        }
      ]
    },
    {
      "cell_type": "markdown",
      "metadata": {
        "id": "65HohQZkDV2Q"
      },
      "source": [
        "## Evaluating Different models for Fraudulent Job Filter"
      ]
    },
    {
      "cell_type": "code",
      "metadata": {
        "id": "OcJtmzXXDV2R"
      },
      "source": [
        "Model_Score = []\n",
        "Model_Name = []"
      ],
      "execution_count": 20,
      "outputs": []
    },
    {
      "cell_type": "markdown",
      "metadata": {
        "id": "WyHt-U17DV2Y"
      },
      "source": [
        "## 1. Logistic Regression"
      ]
    },
    {
      "cell_type": "code",
      "metadata": {
        "id": "3zvsKCoEDV2Y",
        "outputId": "3956877a-9748-4aec-c4eb-52b19cabf858",
        "colab": {
          "base_uri": "https://localhost:8080/"
        }
      },
      "source": [
        "log_reg = LogisticRegression()\n",
        "c_values = [0.00001, 0.0001, 0.001, 0.01, 0.1, 1, 10, 100, 1000, 10000]\n",
        "penalty_options = ['l1', 'l2']\n",
        "\n",
        "param_grid = dict(C = c_values, penalty = penalty_options)\n",
        "\n",
        "#Finding best parameters\n",
        "grid_tfidf = GridSearchCV(log_reg, param_grid = param_grid, cv = 10, scoring = 'roc_auc', n_jobs = -1, verbose=1)\n",
        "\n",
        "#Training the model\n",
        "grid_tfidf.fit(X_train, y_train)\n",
        "\n",
        "#Best parameters\n",
        "print(\"Best Score\" , grid_tfidf.best_score_)\n",
        "print(\"Best Parameter\" , grid_tfidf.best_params_)\n",
        "\n",
        "#Predicting\n",
        "log_reg_pred = grid_tfidf.predict(X_test)\n",
        "print(\"ROC Score\" , roc_auc_score(y_test, log_reg_pred))\n",
        "\n",
        "#Appending for Model Comparison\n",
        "Model_Name.append('Logistic_Regression')\n",
        "Model_Score.append(round(roc_auc_score(y_test, log_reg_pred), 4))"
      ],
      "execution_count": 21,
      "outputs": [
        {
          "output_type": "stream",
          "text": [
            "Fitting 10 folds for each of 20 candidates, totalling 200 fits\n"
          ],
          "name": "stdout"
        },
        {
          "output_type": "stream",
          "text": [
            "[Parallel(n_jobs=-1)]: Using backend LokyBackend with 2 concurrent workers.\n",
            "[Parallel(n_jobs=-1)]: Done  46 tasks      | elapsed:    8.2s\n",
            "[Parallel(n_jobs=-1)]: Done 196 tasks      | elapsed:  1.6min\n",
            "[Parallel(n_jobs=-1)]: Done 200 out of 200 | elapsed:  1.7min finished\n"
          ],
          "name": "stderr"
        },
        {
          "output_type": "stream",
          "text": [
            "Best Score 0.9885987106336861\n",
            "Best Parameter {'C': 0.1, 'penalty': 'l2'}\n",
            "ROC Score 0.7795466908431551\n"
          ],
          "name": "stdout"
        }
      ]
    },
    {
      "cell_type": "markdown",
      "metadata": {
        "id": "OjYLHe4qDV5p"
      },
      "source": [
        "## 2. KNN"
      ]
    },
    {
      "cell_type": "code",
      "metadata": {
        "id": "7t2tuileDV5q",
        "outputId": "c3091957-9868-4f9f-a6f9-b25a73350a7d",
        "colab": {
          "base_uri": "https://localhost:8080/"
        }
      },
      "source": [
        "knn = KNeighborsClassifier()\n",
        "k_range = list(np.arange(2, 23, 2))\n",
        "param_grid_knn = dict(n_neighbors = k_range)\n",
        "\n",
        "#Finding best parameters\n",
        "grid_knn = GridSearchCV(knn, param_grid_knn, cv = 10, scoring = 'roc_auc', n_jobs = -1, verbose = 1)\n",
        "\n",
        "#Training the model\n",
        "grid_knn.fit(X_train, y_train)\n",
        "\n",
        "#Best parameters\n",
        "print(\"Best Score\" , grid_knn.best_score_)\n",
        "print(\"Best parameter\" ,grid_knn.best_params_)\n",
        "\n",
        "#Predicting\n",
        "knn_pred = grid_knn.predict(X_test)\n",
        "print(\"ROC Score\" , roc_auc_score(y_test, knn_pred))\n",
        "\n",
        "#Appending for Model Comparison\n",
        "Model_Name.append('KNN')\n",
        "Model_Score.append(round(roc_auc_score(y_test, knn_pred), 4))"
      ],
      "execution_count": 22,
      "outputs": [
        {
          "output_type": "stream",
          "text": [
            "Fitting 10 folds for each of 11 candidates, totalling 110 fits\n"
          ],
          "name": "stdout"
        },
        {
          "output_type": "stream",
          "text": [
            "[Parallel(n_jobs=-1)]: Using backend LokyBackend with 2 concurrent workers.\n",
            "/usr/local/lib/python3.6/dist-packages/joblib/externals/loky/process_executor.py:691: UserWarning: A worker stopped while some jobs were given to the executor. This can be caused by a too short worker timeout or by a memory leak.\n",
            "  \"timeout or by a memory leak.\", UserWarning\n",
            "[Parallel(n_jobs=-1)]: Done  46 tasks      | elapsed:  8.1min\n",
            "[Parallel(n_jobs=-1)]: Done 110 out of 110 | elapsed: 20.4min finished\n"
          ],
          "name": "stderr"
        },
        {
          "output_type": "stream",
          "text": [
            "Best Score 0.9612380267435932\n",
            "Best parameter {'n_neighbors': 22}\n",
            "ROC Score 0.6\n"
          ],
          "name": "stdout"
        }
      ]
    },
    {
      "cell_type": "markdown",
      "metadata": {
        "id": "dRVBQkrIDV6P"
      },
      "source": [
        "## 3. SVC"
      ]
    },
    {
      "cell_type": "code",
      "metadata": {
        "id": "OPKamM0eDV6Q",
        "outputId": "1b03a631-cb44-40ff-844e-71e29c0929d2",
        "colab": {
          "base_uri": "https://localhost:8080/"
        }
      },
      "source": [
        "svc = SVC()\n",
        "kernel = ['linear', 'rbf']\n",
        "param_grid_knn = dict(kernel = kernel)\n",
        "\n",
        "#Finding best parameters\n",
        "grid_svc = GridSearchCV(svc, param_grid_knn, cv = 10, scoring = 'roc_auc', n_jobs = -1, verbose = 2)\n",
        "\n",
        "#Training the model\n",
        "grid_svc.fit(X_train, y_train)\n",
        "\n",
        "#Best parameters\n",
        "print(\"Best Score\" , grid_svc.best_score_)\n",
        "print(\"Best Parameter\" ,grid_svc.best_params_)\n",
        "\n",
        "#Predicting\n",
        "svc_pred = grid_svc.predict(X_test)\n",
        "print(\"ROC Score\" , roc_auc_score(y_test, svc_pred))\n",
        "\n",
        "#Appending for Model Comparison\n",
        "Model_Name.append('SVC')\n",
        "Model_Score.append(round(roc_auc_score(y_test, svc_pred), 4))\n"
      ],
      "execution_count": 23,
      "outputs": [
        {
          "output_type": "stream",
          "text": [
            "Fitting 10 folds for each of 2 candidates, totalling 20 fits\n"
          ],
          "name": "stdout"
        },
        {
          "output_type": "stream",
          "text": [
            "[Parallel(n_jobs=-1)]: Using backend LokyBackend with 2 concurrent workers.\n",
            "[Parallel(n_jobs=-1)]: Done  20 out of  20 | elapsed:  2.0min finished\n"
          ],
          "name": "stderr"
        },
        {
          "output_type": "stream",
          "text": [
            "Best Score 0.9761839777508605\n",
            "Best Parameter {'kernel': 'linear'}\n",
            "ROC Score 0.8195466908431551\n"
          ],
          "name": "stdout"
        }
      ]
    },
    {
      "cell_type": "markdown",
      "metadata": {
        "id": "FtjgwiR1DV-h"
      },
      "source": [
        "## 4. Random Forest Classifier"
      ]
    },
    {
      "cell_type": "code",
      "metadata": {
        "id": "RI9jMgzKDV-h",
        "outputId": "c942b99f-077b-4a06-ae88-7f825dd2cf36",
        "colab": {
          "base_uri": "https://localhost:8080/"
        }
      },
      "source": [
        "rf = RandomForestClassifier()\n",
        "n_estimators_range = [1, 2, 4, 8, 16, 32, 64, 100, 200]\n",
        "param_grid_rf = dict(n_estimators = n_estimators_range)\n",
        "\n",
        "#Finding best parameters\n",
        "grid_rf = GridSearchCV(rf, param_grid_rf, cv = 10, scoring = 'roc_auc', n_jobs = -1, verbose = 1)\n",
        "\n",
        "#Training the model\n",
        "grid_rf.fit(X_train, y_train)\n",
        "\n",
        "#Best parameters\n",
        "print(\"Best Score\" , grid_rf.best_score_)\n",
        "print(\"Best parameter\" ,grid_rf.best_params_)\n",
        "\n",
        "#Predicting\n",
        "rf_pred = grid_rf.predict(X_test)\n",
        "print(\"ROC Score\" , roc_auc_score(y_test, rf_pred))\n",
        "\n",
        "#Appending for Model Comparison\n",
        "Model_Name.append('Random_Forest')\n",
        "Model_Score.append(round(roc_auc_score(y_test, rf_pred), 4))"
      ],
      "execution_count": 24,
      "outputs": [
        {
          "output_type": "stream",
          "text": [
            "Fitting 10 folds for each of 9 candidates, totalling 90 fits\n"
          ],
          "name": "stdout"
        },
        {
          "output_type": "stream",
          "text": [
            "[Parallel(n_jobs=-1)]: Using backend LokyBackend with 2 concurrent workers.\n",
            "[Parallel(n_jobs=-1)]: Done  46 tasks      | elapsed:    7.6s\n",
            "[Parallel(n_jobs=-1)]: Done  90 out of  90 | elapsed:  1.5min finished\n"
          ],
          "name": "stderr"
        },
        {
          "output_type": "stream",
          "text": [
            "Best Score 0.9860484667856688\n",
            "Best parameter {'n_estimators': 200}\n",
            "ROC Score 0.74\n"
          ],
          "name": "stdout"
        }
      ]
    },
    {
      "cell_type": "markdown",
      "metadata": {
        "id": "UdmrjWi_-Uw6"
      },
      "source": [
        "## 5. Decision Tree"
      ]
    },
    {
      "cell_type": "code",
      "metadata": {
        "id": "pQ_lAdp_-T4T",
        "outputId": "5409d472-b156-4a7e-b522-a038a05655e8",
        "colab": {
          "base_uri": "https://localhost:8080/"
        }
      },
      "source": [
        "from sklearn.tree import DecisionTreeClassifier\n",
        "tree = DecisionTreeClassifier()\n",
        "criteria_range = ['entropy', 'gini']\n",
        "param_grid_tree = dict(criterion = criteria_range)\n",
        "\n",
        "#Finding best parameters\n",
        "grid_tree = GridSearchCV(tree, param_grid_tree, cv = 10, scoring = 'roc_auc', n_jobs = -1, verbose = 1)\n",
        "\n",
        "#Training the model\n",
        "grid_tree.fit(X_train, y_train)\n",
        "\n",
        "#Best parameters\n",
        "print(\"Best Score\" , grid_tree.best_score_)\n",
        "print(\"Best parameter\" ,grid_tree.best_params_)\n",
        "\n",
        "#Predicting\n",
        "tree_pred = grid_tree.predict(X_test)\n",
        "\n",
        "print(\"ROC Score\" , roc_auc_score(y_test, tree_pred))\n",
        "\n",
        "#Appending for Model Comparison\n",
        "Model_Name.append('Decision Tree')\n",
        "Model_Score.append(round(roc_auc_score(y_test, tree_pred), 4))"
      ],
      "execution_count": 25,
      "outputs": [
        {
          "output_type": "stream",
          "text": [
            "Fitting 10 folds for each of 2 candidates, totalling 20 fits\n"
          ],
          "name": "stdout"
        },
        {
          "output_type": "stream",
          "text": [
            "[Parallel(n_jobs=-1)]: Using backend LokyBackend with 2 concurrent workers.\n",
            "[Parallel(n_jobs=-1)]: Done  20 out of  20 | elapsed:   17.2s finished\n"
          ],
          "name": "stderr"
        },
        {
          "output_type": "stream",
          "text": [
            "Best Score 0.9104245027412979\n",
            "Best parameter {'criterion': 'entropy'}\n",
            "ROC Score 0.8786400725294651\n"
          ],
          "name": "stdout"
        }
      ]
    },
    {
      "cell_type": "markdown",
      "metadata": {
        "id": "EL3a-XKE-gmB"
      },
      "source": [
        "## Model Comparisons"
      ]
    },
    {
      "cell_type": "code",
      "metadata": {
        "id": "xvvK6wmK-kNT",
        "outputId": "27ef6149-3f23-4497-c436-a4d71eb36738",
        "colab": {
          "base_uri": "https://localhost:8080/",
          "height": 635
        }
      },
      "source": [
        "plt.figure(figsize = (15, 10))\n",
        "plt.plot(Model_Name,Model_Score, marker = 'o', color = 'red')\n",
        "plt.title('Comparison of different models',fontsize = 19)\n",
        "plt.xlabel('Models', fontsize = 17)\n",
        "plt.ylabel('ROC-AUC score',fontsize = 17)\n",
        "plt.ylim(0.5, 1.0)\n",
        "plt.grid()\n",
        "plt.rc('xtick',labelsize=16)\n",
        "plt.rc('ytick',labelsize=16) \n",
        "plt.savefig('Model_compare.jpeg')\n",
        "plt.show()"
      ],
      "execution_count": 26,
      "outputs": [
        {
          "output_type": "display_data",
          "data": {
            "image/png": "[encoded data removed]",
            "text/plain": [
              "<Figure size 1080x720 with 1 Axes>"
            ]
          },
          "metadata": {
            "tags": [],
            "needs_background": "light"
          }
        }
      ]
    },
    {
      "cell_type": "markdown",
      "metadata": {
        "id": "rt-1R91VCdAj"
      },
      "source": [
        "## Crearting a Fraudulent Job Filter Using DecisionTreeClassifier\n",
        "\n"
      ]
    },
    {
      "cell_type": "code",
      "metadata": {
        "id": "Mb2PKwpWa3dD",
        "outputId": "a387ba71-6476-4537-d224-ec39da0096f3",
        "colab": {
          "base_uri": "https://localhost:8080/"
        }
      },
      "source": [
        "#Training and testing Decision tree classifier/ Fruadulent job filter using 0.5 split\n",
        "X_train_f, X_test_f, y_train_f, y_test_f = train_test_split(features, target, test_size = 0.5, stratify = target, random_state=42)\n",
        "\n",
        "from sklearn.tree import DecisionTreeClassifier\n",
        "\n",
        "Tree_filter = DecisionTreeClassifier(criterion = 'entropy')\n",
        "\n",
        "#Training the model\n",
        "Tree_filter.fit(X_train_f, y_train_f)\n",
        "\n",
        "#Predicting\n",
        "pred = Tree_filter.predict(X_test_f)\n",
        "\n",
        "# X_test_f.columns\n",
        "X_test_f['pred'] = pred\n",
        "\n",
        "#dataset containing only non-fraudulent job postings which we will use for recommending\n",
        "filtered_df = X_test_f[X_test_f[\"pred\"].eq(0)]"
      ],
      "execution_count": 27,
      "outputs": [
        {
          "output_type": "stream",
          "text": [
            "/usr/local/lib/python3.6/dist-packages/ipykernel_launcher.py:15: SettingWithCopyWarning: \n",
            "A value is trying to be set on a copy of a slice from a DataFrame.\n",
            "Try using .loc[row_indexer,col_indexer] = value instead\n",
            "\n",
            "See the caveats in the documentation: https://pandas.pydata.org/pandas-docs/stable/user_guide/indexing.html#returning-a-view-versus-a-copy\n",
            "  from ipykernel import kernelapp as app\n"
          ],
          "name": "stderr"
        }
      ]
    },
    {
      "cell_type": "code",
      "metadata": {
        "id": "DNToN96Vdn3B"
      },
      "source": [
        "NonFraud_job = filtered_df.drop(\"pred\", axis = 1)"
      ],
      "execution_count": 28,
      "outputs": []
    },
    {
      "cell_type": "code",
      "metadata": {
        "id": "Uq4H7QdZesxv"
      },
      "source": [
        "#Copy of non-fraudulent postings\n",
        "NonFraud_job.to_csv(\"Filtered_jobs.csv\")"
      ],
      "execution_count": 29,
      "outputs": []
    },
    {
      "cell_type": "code",
      "metadata": {
        "id": "SsVoVop_SvTu"
      },
      "source": [
        "NF = NonFraud_job.drop([\"telecommuting\", \"has_company_logo\", \"has_questions\" , \":)\", \"\"], axis = 1)"
      ],
      "execution_count": 30,
      "outputs": []
    },
    {
      "cell_type": "code",
      "metadata": {
        "id": "xMTNmfN-vQlV",
        "outputId": "34619504-70a8-4133-9cc8-be8ac5d7ba50",
        "colab": {
          "base_uri": "https://localhost:8080/"
        }
      },
      "source": [
        "NF.drop(NF.columns[[0]], axis = 1, inplace = True) \n",
        "my_list = NF.columns.values.tolist()\n",
        "final_text = []\n",
        "for index, row in NF.iterrows(): \n",
        "    temp = ''\n",
        "    for i in range(len(my_list)):\n",
        "        if row[i] >= 1:\n",
        "            temp += str(my_list[i]) + ' '\n",
        "    final_text.append(temp)\n",
        "NF['text'] = final_text\n"
      ],
      "execution_count": 31,
      "outputs": [
        {
          "output_type": "stream",
          "text": [
            "/usr/local/lib/python3.6/dist-packages/pandas/core/frame.py:4174: SettingWithCopyWarning: \n",
            "A value is trying to be set on a copy of a slice from a DataFrame\n",
            "\n",
            "See the caveats in the documentation: https://pandas.pydata.org/pandas-docs/stable/user_guide/indexing.html#returning-a-view-versus-a-copy\n",
            "  errors=errors,\n",
            "/usr/local/lib/python3.6/dist-packages/ipykernel_launcher.py:10: SettingWithCopyWarning: \n",
            "A value is trying to be set on a copy of a slice from a DataFrame.\n",
            "Try using .loc[row_indexer,col_indexer] = value instead\n",
            "\n",
            "See the caveats in the documentation: https://pandas.pydata.org/pandas-docs/stable/user_guide/indexing.html#returning-a-view-versus-a-copy\n",
            "  # Remove the CWD from sys.path while we load stuff.\n"
          ],
          "name": "stderr"
        }
      ]
    },
    {
      "cell_type": "code",
      "metadata": {
        "id": "wzw5NHJU5VKR"
      },
      "source": [
        "final_df = NF['text']\n",
        "df = pd.DataFrame(final_df)\n",
        "\n",
        " series = df.index  \n",
        "df.insert(0, \"Job_ID\", series) "
      ],
      "execution_count": 32,
      "outputs": []
    },
    {
      "cell_type": "markdown",
      "metadata": {
        "id": "zM55jxiL7q8O"
      },
      "source": [
        "# Recommendation system"
      ]
    },
    {
      "cell_type": "code",
      "metadata": {
        "id": "hRX2I4OfNHdQ"
      },
      "source": [
        "#reading User Resume\n",
        "MY_TEXT = docx2txt.process(\"/content/User_Resume.docx\")"
      ],
      "execution_count": 33,
      "outputs": []
    },
    {
      "cell_type": "markdown",
      "metadata": {
        "id": "17-xvKoWNvWa"
      },
      "source": [
        "# User Resume Pre-Processing"
      ]
    },
    {
      "cell_type": "code",
      "metadata": {
        "id": "6swUzYMfSP-6"
      },
      "source": [
        "words = MY_TEXT.split()\n",
        "table = str.maketrans('', '', string.punctuation)\n",
        "stripped = [w.translate(table) for w in words]"
      ],
      "execution_count": 34,
      "outputs": []
    },
    {
      "cell_type": "code",
      "metadata": {
        "id": "8zXlrw3GSdmT"
      },
      "source": [
        "stripped = [s.lower() for s in stripped]"
      ],
      "execution_count": 35,
      "outputs": []
    },
    {
      "cell_type": "code",
      "metadata": {
        "id": "IirBH20wS_Kv"
      },
      "source": [
        "stripped = [w for w in stripped if not w in stopwords]"
      ],
      "execution_count": 36,
      "outputs": []
    },
    {
      "cell_type": "code",
      "metadata": {
        "id": "wGLoZdIR8nZR"
      },
      "source": [
        "user_resume = \" \".join(stripped)"
      ],
      "execution_count": 37,
      "outputs": []
    },
    {
      "cell_type": "code",
      "metadata": {
        "id": "LSKHHA7JVL6E"
      },
      "source": [
        "temp = []\n",
        "temp.append(user_resume)"
      ],
      "execution_count": 38,
      "outputs": []
    },
    {
      "cell_type": "code",
      "metadata": {
        "id": "tNduTRwgUTxv"
      },
      "source": [
        "df_user = pd.DataFrame()\n",
        "\n",
        "df_user[\"text\"] = temp\n",
        "df_user[\"ApplicantID\"] = 1"
      ],
      "execution_count": 39,
      "outputs": []
    },
    {
      "cell_type": "code",
      "metadata": {
        "id": "Y1Oy01KPVBXC",
        "outputId": "ed536adf-afd2-4afa-d4ab-647f00c1bad5",
        "colab": {
          "base_uri": "https://localhost:8080/",
          "height": 80
        }
      },
      "source": [
        "df_user.head()"
      ],
      "execution_count": 40,
      "outputs": [
        {
          "output_type": "execute_result",
          "data": {
            "text/html": [
              "<div>\n",
              "<style scoped>\n",
              "    .dataframe tbody tr th:only-of-type {\n",
              "        vertical-align: middle;\n",
              "    }\n",
              "\n",
              "    .dataframe tbody tr th {\n",
              "        vertical-align: top;\n",
              "    }\n",
              "\n",
              "    .dataframe thead th {\n",
              "        text-align: right;\n",
              "    }\n",
              "</style>\n",
              "<table border=\"1\" class=\"dataframe\">\n",
              "  <thead>\n",
              "    <tr style=\"text-align: right;\">\n",
              "      <th></th>\n",
              "      <th>text</th>\n",
              "      <th>ApplicantID</th>\n",
              "    </tr>\n",
              "  </thead>\n",
              "  <tbody>\n",
              "    <tr>\n",
              "      <th>0</th>\n",
              "      <td>dhanalaxmi sangole ph 9162829259 email id samv...</td>\n",
              "      <td>1</td>\n",
              "    </tr>\n",
              "  </tbody>\n",
              "</table>\n",
              "</div>"
            ],
            "text/plain": [
              "                                                text  ApplicantID\n",
              "0  dhanalaxmi sangole ph 9162829259 email id samv...            1"
            ]
          },
          "metadata": {
            "tags": []
          },
          "execution_count": 40
        }
      ]
    },
    {
      "cell_type": "code",
      "metadata": {
        "id": "_-qNLKHIT7rb",
        "outputId": "89c0a7e9-1b92-4f6b-fffc-d888c1844637",
        "colab": {
          "base_uri": "https://localhost:8080/",
          "height": 419
        }
      },
      "source": [
        "df.dropna()"
      ],
      "execution_count": 41,
      "outputs": [
        {
          "output_type": "execute_result",
          "data": {
            "text/html": [
              "<div>\n",
              "<style scoped>\n",
              "    .dataframe tbody tr th:only-of-type {\n",
              "        vertical-align: middle;\n",
              "    }\n",
              "\n",
              "    .dataframe tbody tr th {\n",
              "        vertical-align: top;\n",
              "    }\n",
              "\n",
              "    .dataframe thead th {\n",
              "        text-align: right;\n",
              "    }\n",
              "</style>\n",
              "<table border=\"1\" class=\"dataframe\">\n",
              "  <thead>\n",
              "    <tr style=\"text-align: right;\">\n",
              "      <th></th>\n",
              "      <th>Job_ID</th>\n",
              "      <th>text</th>\n",
              "    </tr>\n",
              "  </thead>\n",
              "  <tbody>\n",
              "    <tr>\n",
              "      <th>5165</th>\n",
              "      <td>5165</td>\n",
              "      <td>'s 2 2 years ability able achieve based basis ...</td>\n",
              "    </tr>\n",
              "    <tr>\n",
              "      <th>3541</th>\n",
              "      <td>3541</td>\n",
              "      <td>tefl  tefl tesol 200 200 cost abroad abroad :...</td>\n",
              "    </tr>\n",
              "    <tr>\n",
              "      <th>5279</th>\n",
              "      <td>5279</td>\n",
              "      <td>2 2 years agencies applications based candidat...</td>\n",
              "    </tr>\n",
              "    <tr>\n",
              "      <th>4561</th>\n",
              "      <td>4561</td>\n",
              "      <td>'s 1 100 5 5 years ability able amazing amp an...</td>\n",
              "    </tr>\n",
              "    <tr>\n",
              "      <th>2138</th>\n",
              "      <td>2138</td>\n",
              "      <td>'s 30 activities additional amp assigned atten...</td>\n",
              "    </tr>\n",
              "    <tr>\n",
              "      <th>...</th>\n",
              "      <td>...</td>\n",
              "      <td>...</td>\n",
              "    </tr>\n",
              "    <tr>\n",
              "      <th>8863</th>\n",
              "      <td>8863</td>\n",
              "      <td>'s ability ability work able access account ac...</td>\n",
              "    </tr>\n",
              "    <tr>\n",
              "      <th>10315</th>\n",
              "      <td>10315</td>\n",
              "      <td>'s 2 2 years 5 ability able and/or assist atte...</td>\n",
              "    </tr>\n",
              "    <tr>\n",
              "      <th>5980</th>\n",
              "      <td>5980</td>\n",
              "      <td>2 agency available business calls candidate ca...</td>\n",
              "    </tr>\n",
              "    <tr>\n",
              "      <th>1379</th>\n",
              "      <td>1379</td>\n",
              "      <td>ability account activities agencies agency bet...</td>\n",
              "    </tr>\n",
              "    <tr>\n",
              "      <th>3739</th>\n",
              "      <td>3739</td>\n",
              "      <td>tefl  tefl tesol 200 200 cost abroad abroad :...</td>\n",
              "    </tr>\n",
              "  </tbody>\n",
              "</table>\n",
              "<p>5502 rows × 2 columns</p>\n",
              "</div>"
            ],
            "text/plain": [
              "       Job_ID                                               text\n",
              "5165     5165  's 2 2 years ability able achieve based basis ...\n",
              "3541     3541   tefl  tefl tesol 200 200 cost abroad abroad :...\n",
              "5279     5279  2 2 years agencies applications based candidat...\n",
              "4561     4561  's 1 100 5 5 years ability able amazing amp an...\n",
              "2138     2138  's 30 activities additional amp assigned atten...\n",
              "...       ...                                                ...\n",
              "8863     8863  's ability ability work able access account ac...\n",
              "10315   10315  's 2 2 years 5 ability able and/or assist atte...\n",
              "5980     5980  2 agency available business calls candidate ca...\n",
              "1379     1379  ability account activities agencies agency bet...\n",
              "3739     3739   tefl  tefl tesol 200 200 cost abroad abroad :...\n",
              "\n",
              "[5502 rows x 2 columns]"
            ]
          },
          "metadata": {
            "tags": []
          },
          "execution_count": 41
        }
      ]
    },
    {
      "cell_type": "code",
      "metadata": {
        "id": "KCfwK7zB70mf"
      },
      "source": [
        "#initializing tfidf vectorizer\n",
        "from sklearn.feature_extraction.text import TfidfVectorizer\n",
        "tfidf_vectorizer = TfidfVectorizer()\n",
        "\n",
        "#fitting and transforming the vector on Jon Posting Dataset\n",
        "tfidf_jobid = tfidf_vectorizer.fit_transform((df['text'])) "
      ],
      "execution_count": 42,
      "outputs": []
    },
    {
      "cell_type": "code",
      "metadata": {
        "id": "UebTI5VF9K1_"
      },
      "source": [
        "op = df_user.dropna()"
      ],
      "execution_count": 43,
      "outputs": []
    },
    {
      "cell_type": "code",
      "metadata": {
        "id": "SRFKrETl86fT"
      },
      "source": [
        "user_tfidf = tfidf_vectorizer.transform(op['text'])"
      ],
      "execution_count": 44,
      "outputs": []
    },
    {
      "cell_type": "markdown",
      "metadata": {
        "id": "kW80eybSO6H5"
      },
      "source": [
        "#Finding relevant jobs using Cosine Similarity"
      ]
    },
    {
      "cell_type": "code",
      "metadata": {
        "id": "OG-ebt3O9JC1"
      },
      "source": [
        "cos_similarity_tfidf = map(lambda x: cosine_similarity(user_tfidf, x),tfidf_jobid)\n",
        "output2 = list(cos_similarity_tfidf)"
      ],
      "execution_count": 45,
      "outputs": []
    },
    {
      "cell_type": "code",
      "metadata": {
        "id": "4CDqYlsnay0s"
      },
      "source": [
        "df_first = pd.read_csv('/content/fake_job_postings.csv')\n",
        "df_first = df_first.sort_values('title').reset_index(drop = True)"
      ],
      "execution_count": 46,
      "outputs": []
    },
    {
      "cell_type": "code",
      "metadata": {
        "id": "KBBV3eMd9ZZU"
      },
      "source": [
        "def get_recommendation(top, df_all, scores):\n",
        "  recommendation = pd.DataFrame(columns = ['Job_ID', 'Title', 'Location', 'Department', 'Company Profile',\n",
        "                                           'Description', 'Requirement', 'Employment Type','Experience',\n",
        "                                            'Education', 'Industry', 'Function', 'Fraudulent', 'score'])\n",
        "  count = 0\n",
        "  for i in top:\n",
        "      recommendation.at[count, 'Job_ID'] = df_first['job_id'].iloc[i]\n",
        "      recommendation.at[count, 'Title'] = df_first['title'].iloc[i]\n",
        "      recommendation.at[count, 'Location'] = df_first['location'].iloc[i]\n",
        "      recommendation.at[count, 'Department'] = df_first['department'].iloc[i]\n",
        "      recommendation.at[count, 'Company Profile'] = df_first['company_profile'].iloc[i]\n",
        "      recommendation.at[count, 'Description'] = df_first['description'].iloc[i]\n",
        "      recommendation.at[count, 'Requirement'] = df_first['requirements'].iloc[i]\n",
        "      recommendation.at[count, 'Employment Type'] = df_first['employment_type'].iloc[i]\n",
        "      recommendation.at[count, 'Experience'] = df_first['required_experience'].iloc[i]\n",
        "      recommendation.at[count, 'Education'] = df_first['required_education'].iloc[i]\n",
        "      recommendation.at[count, 'Industry'] = df_first['industry'].iloc[i]\n",
        "      recommendation.at[count, 'Function'] = df_first['function'].iloc[i]\n",
        "      recommendation.at[count, 'Fraudulent'] = df_first['fraudulent'].iloc[i]\n",
        "      recommendation.at[count, 'score'] =  scores[count]\n",
        "      count += 1\n",
        "  return recommendation\n",
        "\n",
        "top = sorted(range(len(output2)), key=lambda i: output2[i], reverse=True)[:10]\n",
        "list_scores = [output2[i][0][0] for i in top]\n",
        "results = get_recommendation(top, df, list_scores)"
      ],
      "execution_count": 47,
      "outputs": []
    },
    {
      "cell_type": "code",
      "metadata": {
        "id": "KeYo9unMNL-f",
        "outputId": "e3ba90c3-0ec9-49fa-93cd-49e009001dda",
        "colab": {
          "base_uri": "https://localhost:8080/",
          "height": 581
        }
      },
      "source": [
        "results.head()"
      ],
      "execution_count": 48,
      "outputs": [
        {
          "output_type": "execute_result",
          "data": {
            "text/html": [
              "<div>\n",
              "<style scoped>\n",
              "    .dataframe tbody tr th:only-of-type {\n",
              "        vertical-align: middle;\n",
              "    }\n",
              "\n",
              "    .dataframe tbody tr th {\n",
              "        vertical-align: top;\n",
              "    }\n",
              "\n",
              "    .dataframe thead th {\n",
              "        text-align: right;\n",
              "    }\n",
              "</style>\n",
              "<table border=\"1\" class=\"dataframe\">\n",
              "  <thead>\n",
              "    <tr style=\"text-align: right;\">\n",
              "      <th></th>\n",
              "      <th>Job_ID</th>\n",
              "      <th>Title</th>\n",
              "      <th>Location</th>\n",
              "      <th>Department</th>\n",
              "      <th>Company Profile</th>\n",
              "      <th>Description</th>\n",
              "      <th>Requirement</th>\n",
              "      <th>Employment Type</th>\n",
              "      <th>Experience</th>\n",
              "      <th>Education</th>\n",
              "      <th>Industry</th>\n",
              "      <th>Function</th>\n",
              "      <th>Fraudulent</th>\n",
              "      <th>score</th>\n",
              "    </tr>\n",
              "  </thead>\n",
              "  <tbody>\n",
              "    <tr>\n",
              "      <th>0</th>\n",
              "      <td>7935</td>\n",
              "      <td>Electrical Maintenance Technician</td>\n",
              "      <td>US, GA, Atlanta</td>\n",
              "      <td>NaN</td>\n",
              "      <td>We Provide Full Time Permanent Positions for m...</td>\n",
              "      <td>(We have more than 1500+ Job openings in our w...</td>\n",
              "      <td>NaN</td>\n",
              "      <td>Full-time</td>\n",
              "      <td>NaN</td>\n",
              "      <td>NaN</td>\n",
              "      <td>NaN</td>\n",
              "      <td>NaN</td>\n",
              "      <td>0</td>\n",
              "      <td>0.422575</td>\n",
              "    </tr>\n",
              "    <tr>\n",
              "      <th>1</th>\n",
              "      <td>3157</td>\n",
              "      <td>Digital Media Sales Representative</td>\n",
              "      <td>US, FL, Miami</td>\n",
              "      <td>Sales</td>\n",
              "      <td>Applied Memetics LLC is a professional service...</td>\n",
              "      <td>Applied Memetics LLC (\"AM LLC\") is looking for...</td>\n",
              "      <td>The Digital Media sales representative is acco...</td>\n",
              "      <td>Full-time</td>\n",
              "      <td>Associate</td>\n",
              "      <td>Bachelor's Degree</td>\n",
              "      <td>Broadcast Media</td>\n",
              "      <td>Sales</td>\n",
              "      <td>0</td>\n",
              "      <td>0.412562</td>\n",
              "    </tr>\n",
              "    <tr>\n",
              "      <th>2</th>\n",
              "      <td>6858</td>\n",
              "      <td>Business Development Manager - Banking &amp; Inves...</td>\n",
              "      <td>CH, GE,</td>\n",
              "      <td>NaN</td>\n",
              "      <td>PROFILE provides leading technology solutions ...</td>\n",
              "      <td>PROFILE is a world-class provider of Banking a...</td>\n",
              "      <td>The candidate should have the following charac...</td>\n",
              "      <td>Full-time</td>\n",
              "      <td>Mid-Senior level</td>\n",
              "      <td>NaN</td>\n",
              "      <td>Computer Software</td>\n",
              "      <td>Business Development</td>\n",
              "      <td>0</td>\n",
              "      <td>0.408419</td>\n",
              "    </tr>\n",
              "    <tr>\n",
              "      <th>3</th>\n",
              "      <td>15567</td>\n",
              "      <td>Developers Community Ace</td>\n",
              "      <td>US, CA, San Francisco</td>\n",
              "      <td>NaN</td>\n",
              "      <td>Mashape is the largest, most trafficked API ma...</td>\n",
              "      <td>You serve as the liaison between the company a...</td>\n",
              "      <td>You understand and love technologyOutstanding ...</td>\n",
              "      <td>Full-time</td>\n",
              "      <td>Not Applicable</td>\n",
              "      <td>NaN</td>\n",
              "      <td>Internet</td>\n",
              "      <td>Information Technology</td>\n",
              "      <td>0</td>\n",
              "      <td>0.380883</td>\n",
              "    </tr>\n",
              "    <tr>\n",
              "      <th>4</th>\n",
              "      <td>10683</td>\n",
              "      <td>Care Coordinator</td>\n",
              "      <td>US, CA, Fresno</td>\n",
              "      <td>NaN</td>\n",
              "      <td>HealthCare California is a locally-owned and o...</td>\n",
              "      <td>Manages the scheduling for all patient admitte...</td>\n",
              "      <td>High School Diploma or equivalentDocumented co...</td>\n",
              "      <td>Full-time</td>\n",
              "      <td>NaN</td>\n",
              "      <td>NaN</td>\n",
              "      <td>Hospital &amp; Health Care</td>\n",
              "      <td>NaN</td>\n",
              "      <td>0</td>\n",
              "      <td>0.36152</td>\n",
              "    </tr>\n",
              "  </tbody>\n",
              "</table>\n",
              "</div>"
            ],
            "text/plain": [
              "  Job_ID  ...     score\n",
              "0   7935  ...  0.422575\n",
              "1   3157  ...  0.412562\n",
              "2   6858  ...  0.408419\n",
              "3  15567  ...  0.380883\n",
              "4  10683  ...   0.36152\n",
              "\n",
              "[5 rows x 14 columns]"
            ]
          },
          "metadata": {
            "tags": []
          },
          "execution_count": 48
        }
      ]
    },
    {
      "cell_type": "code",
      "metadata": {
        "id": "MDkFMwOVbDLe"
      },
      "source": [
        "results.to_csv(\"Recommended_jobs.csv\")"
      ],
      "execution_count": 49,
      "outputs": []
    }
  ]
}